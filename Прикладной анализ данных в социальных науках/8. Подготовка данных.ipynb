{
 "cells": [
  {
   "cell_type": "markdown",
   "id": "cc83429c",
   "metadata": {},
   "source": [
    "# 8. Подготовка данных"
   ]
  },
  {
   "cell_type": "markdown",
   "id": "65315e8f",
   "metadata": {},
   "source": [
    " Топ-250 фильмов по версии IMDb и топ-250 сериалов по версии IMDb"
   ]
  },
  {
   "cell_type": "code",
   "execution_count": 1,
   "id": "22dc3f18",
   "metadata": {},
   "outputs": [
    {
     "data": {
      "text/html": [
       "<div>\n",
       "<style scoped>\n",
       "    .dataframe tbody tr th:only-of-type {\n",
       "        vertical-align: middle;\n",
       "    }\n",
       "\n",
       "    .dataframe tbody tr th {\n",
       "        vertical-align: top;\n",
       "    }\n",
       "\n",
       "    .dataframe thead th {\n",
       "        text-align: right;\n",
       "    }\n",
       "</style>\n",
       "<table border=\"1\" class=\"dataframe\">\n",
       "  <thead>\n",
       "    <tr style=\"text-align: right;\">\n",
       "      <th></th>\n",
       "      <th>rank</th>\n",
       "      <th>name</th>\n",
       "      <th>year</th>\n",
       "      <th>rating</th>\n",
       "      <th>genre</th>\n",
       "      <th>certificate</th>\n",
       "      <th>run_time</th>\n",
       "      <th>tagline</th>\n",
       "      <th>budget</th>\n",
       "      <th>box_office</th>\n",
       "      <th>casts</th>\n",
       "      <th>directors</th>\n",
       "      <th>writers</th>\n",
       "    </tr>\n",
       "  </thead>\n",
       "  <tbody>\n",
       "    <tr>\n",
       "      <th>0</th>\n",
       "      <td>1</td>\n",
       "      <td>The Shawshank Redemption</td>\n",
       "      <td>1994</td>\n",
       "      <td>9.3</td>\n",
       "      <td>Drama</td>\n",
       "      <td>R</td>\n",
       "      <td>2h 22m</td>\n",
       "      <td>Fear can hold you prisoner. Hope can set you f...</td>\n",
       "      <td>25000000</td>\n",
       "      <td>28884504</td>\n",
       "      <td>Tim Robbins,Morgan Freeman,Bob Gunton,William ...</td>\n",
       "      <td>Frank Darabont</td>\n",
       "      <td>Stephen King,Frank Darabont</td>\n",
       "    </tr>\n",
       "  </tbody>\n",
       "</table>\n",
       "</div>"
      ],
      "text/plain": [
       "   rank                      name  year  rating  genre certificate run_time  \\\n",
       "0     1  The Shawshank Redemption  1994     9.3  Drama           R   2h 22m   \n",
       "\n",
       "                                             tagline    budget box_office  \\\n",
       "0  Fear can hold you prisoner. Hope can set you f...  25000000   28884504   \n",
       "\n",
       "                                               casts       directors  \\\n",
       "0  Tim Robbins,Morgan Freeman,Bob Gunton,William ...  Frank Darabont   \n",
       "\n",
       "                       writers  \n",
       "0  Stephen King,Frank Darabont  "
      ]
     },
     "execution_count": 1,
     "metadata": {},
     "output_type": "execute_result"
    }
   ],
   "source": [
    "import pandas as pd\n",
    "\n",
    "imdb_films = pd.read_csv('data/imdb.csv')\n",
    "imdb_films.head(1)"
   ]
  },
  {
   "cell_type": "code",
   "execution_count": 2,
   "id": "d0da1e04",
   "metadata": {},
   "outputs": [
    {
     "data": {
      "text/html": [
       "<div>\n",
       "<style scoped>\n",
       "    .dataframe tbody tr th:only-of-type {\n",
       "        vertical-align: middle;\n",
       "    }\n",
       "\n",
       "    .dataframe tbody tr th {\n",
       "        vertical-align: top;\n",
       "    }\n",
       "\n",
       "    .dataframe thead th {\n",
       "        text-align: right;\n",
       "    }\n",
       "</style>\n",
       "<table border=\"1\" class=\"dataframe\">\n",
       "  <thead>\n",
       "    <tr style=\"text-align: right;\">\n",
       "      <th></th>\n",
       "      <th>rank</th>\n",
       "      <th>name</th>\n",
       "      <th>year</th>\n",
       "      <th>rating</th>\n",
       "      <th>genre</th>\n",
       "      <th>certificate</th>\n",
       "      <th>run_time</th>\n",
       "      <th>tagline</th>\n",
       "      <th>budget</th>\n",
       "      <th>box_office</th>\n",
       "      <th>casts</th>\n",
       "      <th>directors</th>\n",
       "      <th>writers</th>\n",
       "    </tr>\n",
       "  </thead>\n",
       "  <tbody>\n",
       "    <tr>\n",
       "      <th>0</th>\n",
       "      <td>1</td>\n",
       "      <td>The Shawshank Redemption</td>\n",
       "      <td>1994</td>\n",
       "      <td>9.3</td>\n",
       "      <td>Drama</td>\n",
       "      <td>R</td>\n",
       "      <td>2h 22m</td>\n",
       "      <td>Fear can hold you prisoner. Hope can set you f...</td>\n",
       "      <td>25000000</td>\n",
       "      <td>28884504</td>\n",
       "      <td>Tim Robbins,Morgan Freeman,Bob Gunton,William ...</td>\n",
       "      <td>Frank Darabont</td>\n",
       "      <td>Stephen King,Frank Darabont</td>\n",
       "    </tr>\n",
       "  </tbody>\n",
       "</table>\n",
       "</div>"
      ],
      "text/plain": [
       "   rank                      name  year  rating  genre certificate run_time  \\\n",
       "0     1  The Shawshank Redemption  1994     9.3  Drama           R   2h 22m   \n",
       "\n",
       "                                             tagline    budget box_office  \\\n",
       "0  Fear can hold you prisoner. Hope can set you f...  25000000   28884504   \n",
       "\n",
       "                                               casts       directors  \\\n",
       "0  Tim Robbins,Morgan Freeman,Bob Gunton,William ...  Frank Darabont   \n",
       "\n",
       "                       writers  \n",
       "0  Stephen King,Frank Darabont  "
      ]
     },
     "execution_count": 2,
     "metadata": {},
     "output_type": "execute_result"
    }
   ],
   "source": [
    "# imdb_films['year'].values \n",
    "\n",
    "# Чистка данных\n",
    "\n",
    "# print(imdb_films.info())\n",
    "cols = ['year']\n",
    "imdb_films[cols] = imdb_films[cols].abs()\n",
    "imdb_films.head(1)"
   ]
  },
  {
   "cell_type": "code",
   "execution_count": 3,
   "id": "34e51681",
   "metadata": {},
   "outputs": [
    {
     "name": "stderr",
     "output_type": "stream",
     "text": [
      "C:\\Users\\anike\\AppData\\Local\\Temp/ipykernel_10868/158430570.py:18: FutureWarning: The default value of regex will change from True to False in a future version. In addition, single character regular expressions will *not* be treated as literal strings when regex=True.\n",
      "  imdb_series['Year'] = imdb_series['Year'].str.replace('(','')\n",
      "C:\\Users\\anike\\AppData\\Local\\Temp/ipykernel_10868/158430570.py:19: FutureWarning: The default value of regex will change from True to False in a future version. In addition, single character regular expressions will *not* be treated as literal strings when regex=True.\n",
      "  imdb_series['Year'] = imdb_series['Year'].str.replace(')','')\n"
     ]
    },
    {
     "data": {
      "text/html": [
       "<div>\n",
       "<style scoped>\n",
       "    .dataframe tbody tr th:only-of-type {\n",
       "        vertical-align: middle;\n",
       "    }\n",
       "\n",
       "    .dataframe tbody tr th {\n",
       "        vertical-align: top;\n",
       "    }\n",
       "\n",
       "    .dataframe thead th {\n",
       "        text-align: right;\n",
       "    }\n",
       "</style>\n",
       "<table border=\"1\" class=\"dataframe\">\n",
       "  <thead>\n",
       "    <tr style=\"text-align: right;\">\n",
       "      <th></th>\n",
       "      <th>Number</th>\n",
       "      <th>Title</th>\n",
       "      <th>Year</th>\n",
       "      <th>Rating</th>\n",
       "    </tr>\n",
       "  </thead>\n",
       "  <tbody>\n",
       "    <tr>\n",
       "      <th>0</th>\n",
       "      <td>1.0</td>\n",
       "      <td>Planet Earth II</td>\n",
       "      <td>2016</td>\n",
       "      <td>9.4</td>\n",
       "    </tr>\n",
       "    <tr>\n",
       "      <th>1</th>\n",
       "      <td>2.0</td>\n",
       "      <td>Breaking Bad</td>\n",
       "      <td>2008</td>\n",
       "      <td>9.4</td>\n",
       "    </tr>\n",
       "    <tr>\n",
       "      <th>2</th>\n",
       "      <td>3.0</td>\n",
       "      <td>Planet Earth</td>\n",
       "      <td>2006</td>\n",
       "      <td>9.4</td>\n",
       "    </tr>\n",
       "    <tr>\n",
       "      <th>3</th>\n",
       "      <td>4.0</td>\n",
       "      <td>Band of Brothers</td>\n",
       "      <td>2001</td>\n",
       "      <td>9.4</td>\n",
       "    </tr>\n",
       "    <tr>\n",
       "      <th>4</th>\n",
       "      <td>5.0</td>\n",
       "      <td>Chernobyl</td>\n",
       "      <td>2019</td>\n",
       "      <td>9.3</td>\n",
       "    </tr>\n",
       "  </tbody>\n",
       "</table>\n",
       "</div>"
      ],
      "text/plain": [
       "   Number             Title  Year  Rating\n",
       "0     1.0   Planet Earth II  2016     9.4\n",
       "1     2.0      Breaking Bad  2008     9.4\n",
       "2     3.0      Planet Earth  2006     9.4\n",
       "3     4.0  Band of Brothers  2001     9.4\n",
       "4     5.0         Chernobyl  2019     9.3"
      ]
     },
     "execution_count": 3,
     "metadata": {},
     "output_type": "execute_result"
    }
   ],
   "source": [
    "imdb_series = pd.read_csv('data/imdb_series_original.csv')\n",
    "imdb_series.head(1)\n",
    "\n",
    "name_col = 'posterColumn href'\n",
    "imdb_series.drop(name_col, axis='columns', inplace=True)\n",
    "name_col = 'posterColumn src'\n",
    "imdb_series.drop(name_col, axis='columns', inplace=True)\n",
    "\n",
    "imdb_series.rename(columns = {'titleColumn':'Number', \n",
    "                              'titleColumn 2':'Title', \n",
    "                              'secondaryInfo':'Year', \n",
    "                              'ratingColumn':'Rating'}, inplace = True)\n",
    "\n",
    "\n",
    "\n",
    "# imdb_series.info()\n",
    "imdb_series['Year'] = imdb_series['Year'].astype('string')\n",
    "imdb_series['Year'] = imdb_series['Year'].str.replace('(','')\n",
    "imdb_series['Year'] = imdb_series['Year'].str.replace(')','')\n",
    "imdb_series['Year'] = imdb_series['Year'].astype('int')\n",
    "\n",
    "imdb_series.head(5)"
   ]
  },
  {
   "cell_type": "code",
   "execution_count": 4,
   "id": "a7324df1",
   "metadata": {
    "scrolled": true
   },
   "outputs": [
    {
     "data": {
      "image/png": "[encoded data removed]",
      "text/plain": [
       "<Figure size 432x288 with 1 Axes>"
      ]
     },
     "metadata": {
      "needs_background": "light"
     },
     "output_type": "display_data"
    }
   ],
   "source": [
    "import matplotlib.pyplot as plt\n",
    "\n",
    "imdb_series['Year'].hist(bins=20, alpha = 0.5)\n",
    "imdb_films['year'].hist(bins=20, alpha = 0.5)\n",
    "plt.show()"
   ]
  },
  {
   "cell_type": "code",
   "execution_count": 5,
   "id": "59f0f942",
   "metadata": {},
   "outputs": [
    {
     "name": "stderr",
     "output_type": "stream",
     "text": [
      "C:\\Users\\anike\\anaconda3\\lib\\site-packages\\IPython\\core\\interactiveshell.py:3444: DtypeWarning: Columns (345,347,349,574,575,576) have mixed types.Specify dtype option on import or set low_memory=False.\n",
      "  exec(code_obj, self.user_global_ns, self.user_ns)\n"
     ]
    }
   ],
   "source": [
    "import pandas as pd\n",
    "\n",
    "wv7 = pd.read_csv('data/WV7.csv')\n",
    "\n",
    "# будем использовать только часть вопросов и только в отношении России\n",
    "\n",
    "wv7_rus = wv7[wv7['B_COUNTRY'] == 643]\n",
    "\n",
    "colums_to_subset = ['D_INTERVIEW', 'Q46', 'Q47', 'Q48', 'Q49', 'Q50', 'Q51', \n",
    "                    'Q52', 'Q53', 'Q54', 'Q55', 'Q56',  'Q260', 'Q262', 'Q275', 'Q281', 'Q288']\n",
    "\n",
    "wv7_rusHappy = wv7_rus[colums_to_subset]\n",
    "\n",
    "# wv7_rusHappy"
   ]
  },
  {
   "cell_type": "code",
   "execution_count": 15,
   "id": "a788a4ee",
   "metadata": {},
   "outputs": [
    {
     "name": "stdout",
     "output_type": "stream",
     "text": [
      "<class 'pandas.core.frame.DataFrame'>\n",
      "Int64Index: 1810 entries, 69141 to 70950\n",
      "Data columns (total 17 columns):\n",
      " #   Column       Non-Null Count  Dtype\n",
      "---  ------       --------------  -----\n",
      " 0   D_INTERVIEW  1810 non-null   int64\n",
      " 1   Q46          1810 non-null   int64\n",
      " 2   Q47          1810 non-null   int64\n",
      " 3   Q48          1810 non-null   int64\n",
      " 4   Q49          1810 non-null   int64\n",
      " 5   Q50          1810 non-null   int64\n",
      " 6   Q51          1810 non-null   int64\n",
      " 7   Q52          1810 non-null   int64\n",
      " 8   Q53          1810 non-null   int64\n",
      " 9   Q54          1810 non-null   int64\n",
      " 10  Q55          1810 non-null   int64\n",
      " 11  Q56          1810 non-null   int64\n",
      " 12  Q260         1810 non-null   int64\n",
      " 13  Q262         1810 non-null   int64\n",
      " 14  Q275         1810 non-null   int64\n",
      " 15  Q281         1810 non-null   int64\n",
      " 16  Q288         1810 non-null   int64\n",
      "dtypes: int64(17)\n",
      "memory usage: 254.5 KB\n"
     ]
    }
   ],
   "source": [
    "wv7_rusHappy.info()"
   ]
  },
  {
   "cell_type": "code",
   "execution_count": 6,
   "id": "72ea4069",
   "metadata": {},
   "outputs": [
    {
     "data": {
      "text/plain": [
       "D_INTERVIEW    0\n",
       "Q46            0\n",
       "Q47            0\n",
       "Q48            0\n",
       "Q49            0\n",
       "Q50            0\n",
       "Q51            0\n",
       "Q52            0\n",
       "Q53            0\n",
       "Q54            0\n",
       "Q55            0\n",
       "Q56            0\n",
       "Q260           0\n",
       "Q262           0\n",
       "Q275           0\n",
       "Q281           0\n",
       "Q288           0\n",
       "dtype: int64"
      ]
     },
     "execution_count": 6,
     "metadata": {},
     "output_type": "execute_result"
    }
   ],
   "source": [
    "wv7_rusHappy.isnull().sum()"
   ]
  },
  {
   "cell_type": "code",
   "execution_count": 7,
   "id": "e086a8f2",
   "metadata": {},
   "outputs": [
    {
     "data": {
      "text/plain": [
       "D_INTERVIEW    0.0\n",
       "Q46            0.0\n",
       "Q47            0.0\n",
       "Q48            0.0\n",
       "Q49            0.0\n",
       "Q50            0.0\n",
       "Q51            0.0\n",
       "Q52            0.0\n",
       "Q53            0.0\n",
       "Q54            0.0\n",
       "Q55            0.0\n",
       "Q56            0.0\n",
       "Q260           0.0\n",
       "Q262           0.0\n",
       "Q275           0.0\n",
       "Q281           0.0\n",
       "Q288           0.0\n",
       "dtype: float64"
      ]
     },
     "execution_count": 7,
     "metadata": {},
     "output_type": "execute_result"
    }
   ],
   "source": [
    "# значение в процентах\n",
    "wv7_rusHappy.isnull().mean()*100"
   ]
  },
  {
   "cell_type": "code",
   "execution_count": 8,
   "id": "a0ef33ee",
   "metadata": {},
   "outputs": [
    {
     "data": {
      "text/plain": [
       "((1810, 17), (1810, 17))"
      ]
     },
     "execution_count": 8,
     "metadata": {},
     "output_type": "execute_result"
    }
   ],
   "source": [
    "wv7_rusHappy_drop = wv7_rusHappy.copy(deep = True)\n",
    "wv7_rusHappy_drop.dropna(how = 'any', inplace = True)\n",
    "\n",
    "wv7_rusHappy.shape, wv7_rusHappy_drop.shape"
   ]
  },
  {
   "cell_type": "markdown",
   "id": "8b9e1cf0",
   "metadata": {},
   "source": [
    "### Восстановление пропущенных значений с помощью метода MICE - Multivariate Imputation by Chained Equations\n",
    "\n",
    "Прогнозирует пропущенные значения на основе доступных значений переменной, в которой мы заполняем пропуски, и других переменных. Точность повышается, так как алгоритм генерирует несколько прогнозов, которые потом усредняются.\n",
    "\n",
    "<!-- [World Value Survey](https://www.worldvaluessurvey.org/WVSDocumentationWV7.jsp) - опрос о ценностях  -->"
   ]
  },
  {
   "cell_type": "code",
   "execution_count": null,
   "id": "cffef482",
   "metadata": {},
   "outputs": [],
   "source": [
    "# from fancyimpute import IterativeImputer\n",
    "# MICE_imputer = IterativeImputer()\n",
    "# wv7_rusHappy_mice = wv7_rusHappy.copy(deep=True)\n",
    "# wv7_rusHappy_mice.iloc[:, :] = MICE_imputer.fit_transform(wv7_rusHappy_mice)"
   ]
  },
  {
   "cell_type": "markdown",
   "id": "38d30edc",
   "metadata": {},
   "source": [
    "# Disney"
   ]
  },
  {
   "cell_type": "code",
   "execution_count": null,
   "id": "35028bd3",
   "metadata": {},
   "outputs": [],
   "source": [
    "import pandas as pd\n",
    "\n",
    "disney = pd.read_csv('data/disney_title.csv')\n",
    "disney.head(1)"
   ]
  },
  {
   "cell_type": "code",
   "execution_count": null,
   "id": "6e396cb7",
   "metadata": {},
   "outputs": [],
   "source": [
    "print(disney.info())"
   ]
  },
  {
   "cell_type": "code",
   "execution_count": null,
   "id": "015b2597",
   "metadata": {},
   "outputs": [],
   "source": [
    "# отфильтруйте все фильмы и сериалы, которые выходили \n",
    "# с 1 января 2020 года по 1 января 2021 года\n",
    "\n",
    "disney['Date'] = pd.to_datetime(disney['Date'])\n",
    "# print(disney['Date'].dtype)\n",
    "\n",
    "date1 = pd.to_datetime('2020-01-01')\n",
    "date2 = pd.to_datetime('2021-01-01')\n",
    "films = disney[(disney['Date'] >= date1) & (disney['Date'] <= date2)]\n",
    "films10 = films['title'].head(10)\n",
    "\n",
    "print(films10)"
   ]
  },
  {
   "cell_type": "code",
   "execution_count": null,
   "id": "e890090f",
   "metadata": {},
   "outputs": [],
   "source": [
    "disney.drop(['release_year'], axis = 1, inplace = True)\n",
    "print(list(disney.columns))"
   ]
  },
  {
   "cell_type": "code",
   "execution_count": null,
   "id": "a14c4924",
   "metadata": {},
   "outputs": [],
   "source": [
    "columns_original = disney.columns.to_list()\n",
    "columns_new = disney.columns.str.capitalize().to_list()\n",
    "n = len(columns_original)\n",
    "dct = { columns_original[i] : columns_new[i] for i in range(n)}\n",
    "disney.rename(columns = dct, inplace = True)\n",
    "print(list(disney.columns))"
   ]
  },
  {
   "cell_type": "code",
   "execution_count": null,
   "id": "3cd09e37",
   "metadata": {},
   "outputs": [],
   "source": [
    "disney = pd.read_csv('data/disney_title.csv')"
   ]
  },
  {
   "cell_type": "code",
   "execution_count": null,
   "id": "235b69d2",
   "metadata": {},
   "outputs": [],
   "source": [
    "disney[\"listed_in\"] = disney[\"listed_in\"].str.replace(\"&\", \",\")\n",
    "\n",
    "print(*disney[\"listed_in\"].tail().to_list(), sep = '\\n')"
   ]
  },
  {
   "cell_type": "code",
   "execution_count": null,
   "id": "f960645c",
   "metadata": {},
   "outputs": [],
   "source": [
    "# вывести количество пропущенных значений по каждому стобцу\n",
    "print(disney.isnull().sum())"
   ]
  },
  {
   "cell_type": "code",
   "execution_count": null,
   "id": "5ba83c62",
   "metadata": {},
   "outputs": [],
   "source": [
    "disney.dropna(how = 'any', inplace = True)\n",
    "print(disney.isnull().sum())"
   ]
  },
  {
   "cell_type": "code",
   "execution_count": null,
   "id": "3a775215",
   "metadata": {},
   "outputs": [],
   "source": [
    "disney = pd.read_csv('data/disney_title.csv')"
   ]
  },
  {
   "cell_type": "code",
   "execution_count": null,
   "id": "bb96ea60",
   "metadata": {},
   "outputs": [],
   "source": [
    "# значение в процентах \n",
    "percent_missing = round(disney.isna().mean() * 100, 2)\n",
    "print(percent_missing)"
   ]
  },
  {
   "cell_type": "code",
   "execution_count": null,
   "id": "43909cc9",
   "metadata": {},
   "outputs": [],
   "source": [
    "# заменить пропущенные значения в стобце 'country' на 'Country not specified' с помощью функции 'fillna'.\n",
    "disney['country'] = disney['country'].fillna('Country not specified')\n",
    "print(disney['country'][:5])"
   ]
  }
 ],
 "metadata": {
  "kernelspec": {
   "display_name": "Python 3 (ipykernel)",
   "language": "python",
   "name": "python3"
  },
  "language_info": {
   "codemirror_mode": {
    "name": "ipython",
    "version": 3
   },
   "file_extension": ".py",
   "mimetype": "text/x-python",
   "name": "python",
   "nbconvert_exporter": "python",
   "pygments_lexer": "ipython3",
   "version": "3.9.7"
  }
 },
 "nbformat": 4,
 "nbformat_minor": 5
}
