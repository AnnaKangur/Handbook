{
 "cells": [
  {
   "cell_type": "markdown",
   "id": "3c83d4fc",
   "metadata": {},
   "source": [
    "# 9. Определение исследовательских гипотез"
   ]
  },
  {
   "cell_type": "code",
   "execution_count": 1,
   "id": "e3cc643c",
   "metadata": {},
   "outputs": [
    {
     "data": {
      "text/html": [
       "<div>\n",
       "<style scoped>\n",
       "    .dataframe tbody tr th:only-of-type {\n",
       "        vertical-align: middle;\n",
       "    }\n",
       "\n",
       "    .dataframe tbody tr th {\n",
       "        vertical-align: top;\n",
       "    }\n",
       "\n",
       "    .dataframe thead th {\n",
       "        text-align: right;\n",
       "    }\n",
       "</style>\n",
       "<table border=\"1\" class=\"dataframe\">\n",
       "  <thead>\n",
       "    <tr style=\"text-align: right;\">\n",
       "      <th></th>\n",
       "      <th>first_name</th>\n",
       "      <th>last_name</th>\n",
       "      <th>age</th>\n",
       "      <th>Happy_Sad_group</th>\n",
       "      <th>Dosage</th>\n",
       "      <th>Drug</th>\n",
       "      <th>Mem_Score_Before</th>\n",
       "      <th>Mem_Score_After</th>\n",
       "      <th>Diff</th>\n",
       "    </tr>\n",
       "  </thead>\n",
       "  <tbody>\n",
       "    <tr>\n",
       "      <th>0</th>\n",
       "      <td>Bastian</td>\n",
       "      <td>Carrasco</td>\n",
       "      <td>25</td>\n",
       "      <td>H</td>\n",
       "      <td>1</td>\n",
       "      <td>A</td>\n",
       "      <td>63.5</td>\n",
       "      <td>61.2</td>\n",
       "      <td>-2.3</td>\n",
       "    </tr>\n",
       "    <tr>\n",
       "      <th>1</th>\n",
       "      <td>Evan</td>\n",
       "      <td>Carrasco</td>\n",
       "      <td>52</td>\n",
       "      <td>S</td>\n",
       "      <td>1</td>\n",
       "      <td>A</td>\n",
       "      <td>41.6</td>\n",
       "      <td>40.7</td>\n",
       "      <td>-0.9</td>\n",
       "    </tr>\n",
       "    <tr>\n",
       "      <th>2</th>\n",
       "      <td>Florencia</td>\n",
       "      <td>Carrasco</td>\n",
       "      <td>29</td>\n",
       "      <td>H</td>\n",
       "      <td>1</td>\n",
       "      <td>A</td>\n",
       "      <td>59.7</td>\n",
       "      <td>55.1</td>\n",
       "      <td>-4.6</td>\n",
       "    </tr>\n",
       "    <tr>\n",
       "      <th>3</th>\n",
       "      <td>Holly</td>\n",
       "      <td>Carrasco</td>\n",
       "      <td>50</td>\n",
       "      <td>S</td>\n",
       "      <td>1</td>\n",
       "      <td>A</td>\n",
       "      <td>51.7</td>\n",
       "      <td>51.2</td>\n",
       "      <td>-0.5</td>\n",
       "    </tr>\n",
       "    <tr>\n",
       "      <th>4</th>\n",
       "      <td>Justin</td>\n",
       "      <td>Carrasco</td>\n",
       "      <td>52</td>\n",
       "      <td>H</td>\n",
       "      <td>1</td>\n",
       "      <td>A</td>\n",
       "      <td>47.0</td>\n",
       "      <td>47.1</td>\n",
       "      <td>0.1</td>\n",
       "    </tr>\n",
       "  </tbody>\n",
       "</table>\n",
       "</div>"
      ],
      "text/plain": [
       "  first_name last_name  age Happy_Sad_group  Dosage Drug  Mem_Score_Before  \\\n",
       "0    Bastian  Carrasco   25               H       1    A              63.5   \n",
       "1       Evan  Carrasco   52               S       1    A              41.6   \n",
       "2  Florencia  Carrasco   29               H       1    A              59.7   \n",
       "3      Holly  Carrasco   50               S       1    A              51.7   \n",
       "4     Justin  Carrasco   52               H       1    A              47.0   \n",
       "\n",
       "   Mem_Score_After  Diff  \n",
       "0             61.2  -2.3  \n",
       "1             40.7  -0.9  \n",
       "2             55.1  -4.6  \n",
       "3             51.2  -0.5  \n",
       "4             47.1   0.1  "
      ]
     },
     "execution_count": 1,
     "metadata": {},
     "output_type": "execute_result"
    }
   ],
   "source": [
    "import pandas as pd\n",
    "df = pd.read_csv('data/Islander_data.csv')\n",
    "df.head()"
   ]
  },
  {
   "cell_type": "code",
   "execution_count": 2,
   "id": "5b763d62",
   "metadata": {},
   "outputs": [
    {
     "data": {
      "text/plain": [
       "Drug\n",
       "T    36\n",
       "S    34\n",
       "A    30\n",
       "dtype: int64"
      ]
     },
     "execution_count": 2,
     "metadata": {},
     "output_type": "execute_result"
    }
   ],
   "source": [
    "exp_sample = df.sample(n=100)\n",
    "exp_sample.value_counts('Drug')"
   ]
  },
  {
   "cell_type": "code",
   "execution_count": 3,
   "id": "c1b16da5",
   "metadata": {},
   "outputs": [
    {
     "data": {
      "text/plain": [
       "Drug\n",
       "A    30\n",
       "S    30\n",
       "T    30\n",
       "dtype: int64"
      ]
     },
     "execution_count": 3,
     "metadata": {},
     "output_type": "execute_result"
    }
   ],
   "source": [
    "exp_sample = df.groupby('Drug').sample(30)\n",
    "exp_sample.value_counts('Drug')"
   ]
  },
  {
   "cell_type": "code",
   "execution_count": 4,
   "id": "43485aa3",
   "metadata": {},
   "outputs": [
    {
     "name": "stderr",
     "output_type": "stream",
     "text": [
      "C:\\Users\\anike\\anaconda3\\lib\\site-packages\\statsmodels\\graphics\\gofplots.py:993: UserWarning: marker is redundantly defined by the 'marker' keyword argument and the fmt string \"bo\" (-> marker='o'). The keyword argument will take precedence.\n",
      "  ax.plot(x, y, fmt, **plot_style)\n"
     ]
    },
    {
     "data": {
      "image/png": "[encoded data removed]",
      "text/plain": [
       "<Figure size 432x288 with 1 Axes>"
      ]
     },
     "metadata": {
      "needs_background": "light"
     },
     "output_type": "display_data"
    }
   ],
   "source": [
    "# Квантильный график\n",
    "\n",
    "import numpy as np\n",
    "import statsmodels.api as sm\n",
    "import matplotlib.pyplot as plt\n",
    " \n",
    "# normal_data = np.random.normal(0, 1, 1000)\n",
    "# sm.qqplot(normal_data, line='45')\n",
    "# plt.show()\n",
    "\n",
    "sm.qqplot(df['Diff'], line='45')\n",
    "plt.show()\n",
    "# данные распределены неравномерно"
   ]
  },
  {
   "cell_type": "markdown",
   "id": "16ef3dc5",
   "metadata": {},
   "source": [
    "### T-тест  -  значима ли разница средних между двумя группами"
   ]
  },
  {
   "cell_type": "code",
   "execution_count": 5,
   "id": "f7e9d60d",
   "metadata": {},
   "outputs": [
    {
     "data": {
      "text/plain": [
       "<AxesSubplot:title={'center':'Diff'}, xlabel='Happy_Sad_group'>"
      ]
     },
     "execution_count": 5,
     "metadata": {},
     "output_type": "execute_result"
    },
    {
     "data": {
      "image/png": "[encoded data removed]",
      "text/plain": [
       "<Figure size 432x288 with 1 Axes>"
      ]
     },
     "metadata": {
      "needs_background": "light"
     },
     "output_type": "display_data"
    }
   ],
   "source": [
    "exp_sample.boxplot(by = 'Happy_Sad_group', \n",
    "                   column =['Diff'], \n",
    "                   grid = False)\n",
    "\n",
    "# медианные значения у них примерно одинаковые и графически видно,\n",
    "# что значимой разницы средних между группами не наблюдается"
   ]
  },
  {
   "cell_type": "markdown",
   "id": "52c8de0b",
   "metadata": {},
   "source": [
    "### ANOVA\n",
    "\n",
    "Разница результатов теста на память в зависимости от групп принимаемого лекарства:\n",
    "* препараты длительного приема (A);\n",
    "* препараты кратковременного приема (T);\n",
    "* плацебо (S)."
   ]
  },
  {
   "cell_type": "code",
   "execution_count": 6,
   "id": "97d5f293",
   "metadata": {},
   "outputs": [
    {
     "data": {
      "text/plain": [
       "<AxesSubplot:title={'center':'Diff'}, xlabel='Drug'>"
      ]
     },
     "execution_count": 6,
     "metadata": {},
     "output_type": "execute_result"
    },
    {
     "data": {
      "image/png": "[encoded data removed]",
      "text/plain": [
       "<Figure size 432x288 with 1 Axes>"
      ]
     },
     "metadata": {
      "needs_background": "light"
     },
     "output_type": "display_data"
    }
   ],
   "source": [
    "exp_sample.boxplot(by = 'Drug', column =['Diff'], grid = False)"
   ]
  },
  {
   "cell_type": "markdown",
   "id": "fc17a7ed",
   "metadata": {},
   "source": [
    "### Хи-квадрат\n",
    "Соотношения двух категориальных переменных (грустные и веселые мысли и группы дозировки): \n",
    "* 1 — маленькая дозировка\n",
    "* 2 — средняя\n",
    "* 3 — большая"
   ]
  },
  {
   "cell_type": "code",
   "execution_count": 7,
   "id": "6c99a065",
   "metadata": {},
   "outputs": [
    {
     "data": {
      "text/plain": [
       "(<Figure size 432x288 with 3 Axes>,\n",
       " {('1', 'H'): (0.0, 0.0, 0.341034103410341, 0.48226342299860675),\n",
       "  ('1', 'S'): (0.0, 0.4855856821348194, 0.341034103410341, 0.5144143178651805),\n",
       "  ('3', 'H'): (0.34598459845984597,\n",
       "   0.0,\n",
       "   0.27502750275027504,\n",
       "   0.5581395348837209),\n",
       "  ('3', 'S'): (0.34598459845984597,\n",
       "   0.5614617940199336,\n",
       "   0.27502750275027504,\n",
       "   0.4385382059800664),\n",
       "  ('2', 'H'): (0.625962596259626,\n",
       "   0.0,\n",
       "   0.37403740374037403,\n",
       "   0.43971076802814146),\n",
       "  ('2', 'S'): (0.625962596259626,\n",
       "   0.4430330271643541,\n",
       "   0.37403740374037403,\n",
       "   0.5569669728356459)})"
      ]
     },
     "execution_count": 7,
     "metadata": {},
     "output_type": "execute_result"
    },
    {
     "data": {
      "image/png": "[encoded data removed]",
      "text/plain": [
       "<Figure size 432x288 with 3 Axes>"
      ]
     },
     "metadata": {
      "needs_background": "light"
     },
     "output_type": "display_data"
    }
   ],
   "source": [
    "from statsmodels.graphics.mosaicplot import mosaic\n",
    "mosaic(exp_sample, ['Dosage','Happy_Sad_group'], \n",
    "       title = 'Соотношения групп дозировки в группе людей со счастливыми и грустными воспоминаниями')"
   ]
  },
  {
   "cell_type": "markdown",
   "id": "6480b3c2",
   "metadata": {},
   "source": [
    "### Визуализация корреляции"
   ]
  },
  {
   "cell_type": "code",
   "execution_count": 8,
   "id": "f5ca2fe5",
   "metadata": {},
   "outputs": [
    {
     "data": {
      "text/plain": [
       "[<matplotlib.lines.Line2D at 0x1bf73ada730>]"
      ]
     },
     "execution_count": 8,
     "metadata": {},
     "output_type": "execute_result"
    },
    {
     "data": {
      "image/png": "[encoded data removed]",
      "text/plain": [
       "<Figure size 432x288 with 1 Axes>"
      ]
     },
     "metadata": {
      "needs_background": "light"
     },
     "output_type": "display_data"
    }
   ],
   "source": [
    "plt.scatter(exp_sample['age'], exp_sample['Diff'])\n",
    "plt.xlabel('Возраст')\n",
    "plt.ylabel('Результаты теста после эксперимента')\n",
    "\n",
    "k, b = np.polyfit(exp_sample['age'], exp_sample['Diff'], 1)\n",
    "plt.plot(exp_sample['age'], k * exp_sample['age'] + b, color='red')\n",
    "\n",
    "# коэффициент корреляции между этими переменными близок к 0"
   ]
  },
  {
   "cell_type": "code",
   "execution_count": 9,
   "id": "c340801b",
   "metadata": {},
   "outputs": [
    {
     "data": {
      "text/plain": [
       "-0.04250318637300124"
      ]
     },
     "execution_count": 9,
     "metadata": {},
     "output_type": "execute_result"
    }
   ],
   "source": [
    "np.corrcoef(exp_sample['age'], exp_sample['Diff'])[0, 1]"
   ]
  },
  {
   "cell_type": "markdown",
   "id": "f1e60e95",
   "metadata": {},
   "source": [
    "# Patient Survival After One Year of Treatment"
   ]
  },
  {
   "cell_type": "code",
   "execution_count": 10,
   "id": "912de0f1",
   "metadata": {},
   "outputs": [
    {
     "data": {
      "text/html": [
       "<div>\n",
       "<style scoped>\n",
       "    .dataframe tbody tr th:only-of-type {\n",
       "        vertical-align: middle;\n",
       "    }\n",
       "\n",
       "    .dataframe tbody tr th {\n",
       "        vertical-align: top;\n",
       "    }\n",
       "\n",
       "    .dataframe thead th {\n",
       "        text-align: right;\n",
       "    }\n",
       "</style>\n",
       "<table border=\"1\" class=\"dataframe\">\n",
       "  <thead>\n",
       "    <tr style=\"text-align: right;\">\n",
       "      <th></th>\n",
       "      <th>Unnamed: 0</th>\n",
       "      <th>Unnamed: 0.1</th>\n",
       "      <th>ID_Patient_Care_Situation</th>\n",
       "      <th>Diagnosed_Condition</th>\n",
       "      <th>Patient_ID</th>\n",
       "      <th>Treated_with_drugs</th>\n",
       "      <th>Patient_Age</th>\n",
       "      <th>Patient_Body_Mass_Index</th>\n",
       "      <th>Patient_Smoker</th>\n",
       "      <th>Patient_Rural_Urban</th>\n",
       "      <th>Patient_mental_condition</th>\n",
       "      <th>A</th>\n",
       "      <th>B</th>\n",
       "      <th>C</th>\n",
       "      <th>D</th>\n",
       "      <th>E</th>\n",
       "      <th>F</th>\n",
       "      <th>Z</th>\n",
       "      <th>Number_of_prev_cond</th>\n",
       "      <th>Survived_1_year</th>\n",
       "    </tr>\n",
       "  </thead>\n",
       "  <tbody>\n",
       "    <tr>\n",
       "      <th>0</th>\n",
       "      <td>0</td>\n",
       "      <td>1</td>\n",
       "      <td>9421</td>\n",
       "      <td>3</td>\n",
       "      <td>2972</td>\n",
       "      <td>DX6</td>\n",
       "      <td>2</td>\n",
       "      <td>28.852743</td>\n",
       "      <td>NO</td>\n",
       "      <td>RURAL</td>\n",
       "      <td>Stable</td>\n",
       "      <td>1.0</td>\n",
       "      <td>0.0</td>\n",
       "      <td>1.0</td>\n",
       "      <td>0.0</td>\n",
       "      <td>1.0</td>\n",
       "      <td>0.0</td>\n",
       "      <td>0.0</td>\n",
       "      <td>3.0</td>\n",
       "      <td>0</td>\n",
       "    </tr>\n",
       "    <tr>\n",
       "      <th>1</th>\n",
       "      <td>1</td>\n",
       "      <td>2</td>\n",
       "      <td>16205</td>\n",
       "      <td>7</td>\n",
       "      <td>8608</td>\n",
       "      <td>DX6</td>\n",
       "      <td>20</td>\n",
       "      <td>26.179725</td>\n",
       "      <td>NO</td>\n",
       "      <td>RURAL</td>\n",
       "      <td>Stable</td>\n",
       "      <td>1.0</td>\n",
       "      <td>0.0</td>\n",
       "      <td>0.0</td>\n",
       "      <td>0.0</td>\n",
       "      <td>1.0</td>\n",
       "      <td>0.0</td>\n",
       "      <td>0.0</td>\n",
       "      <td>2.0</td>\n",
       "      <td>1</td>\n",
       "    </tr>\n",
       "    <tr>\n",
       "      <th>2</th>\n",
       "      <td>2</td>\n",
       "      <td>3</td>\n",
       "      <td>5582</td>\n",
       "      <td>31</td>\n",
       "      <td>10074</td>\n",
       "      <td>DX6</td>\n",
       "      <td>8</td>\n",
       "      <td>22.638945</td>\n",
       "      <td>NO</td>\n",
       "      <td>RURAL</td>\n",
       "      <td>Stable</td>\n",
       "      <td>1.0</td>\n",
       "      <td>0.0</td>\n",
       "      <td>0.0</td>\n",
       "      <td>0.0</td>\n",
       "      <td>1.0</td>\n",
       "      <td>0.0</td>\n",
       "      <td>0.0</td>\n",
       "      <td>2.0</td>\n",
       "      <td>0</td>\n",
       "    </tr>\n",
       "    <tr>\n",
       "      <th>3</th>\n",
       "      <td>3</td>\n",
       "      <td>6</td>\n",
       "      <td>17785</td>\n",
       "      <td>49</td>\n",
       "      <td>6663</td>\n",
       "      <td>DX5</td>\n",
       "      <td>5</td>\n",
       "      <td>23.882432</td>\n",
       "      <td>NO</td>\n",
       "      <td>RURAL</td>\n",
       "      <td>Stable</td>\n",
       "      <td>1.0</td>\n",
       "      <td>0.0</td>\n",
       "      <td>1.0</td>\n",
       "      <td>0.0</td>\n",
       "      <td>0.0</td>\n",
       "      <td>0.0</td>\n",
       "      <td>0.0</td>\n",
       "      <td>2.0</td>\n",
       "      <td>1</td>\n",
       "    </tr>\n",
       "    <tr>\n",
       "      <th>4</th>\n",
       "      <td>4</td>\n",
       "      <td>8</td>\n",
       "      <td>11729</td>\n",
       "      <td>36</td>\n",
       "      <td>8098</td>\n",
       "      <td>DX6</td>\n",
       "      <td>43</td>\n",
       "      <td>22.182933</td>\n",
       "      <td>YES</td>\n",
       "      <td>RURAL</td>\n",
       "      <td>Stable</td>\n",
       "      <td>1.0</td>\n",
       "      <td>0.0</td>\n",
       "      <td>0.0</td>\n",
       "      <td>1.0</td>\n",
       "      <td>0.0</td>\n",
       "      <td>0.0</td>\n",
       "      <td>0.0</td>\n",
       "      <td>2.0</td>\n",
       "      <td>0</td>\n",
       "    </tr>\n",
       "  </tbody>\n",
       "</table>\n",
       "</div>"
      ],
      "text/plain": [
       "   Unnamed: 0  Unnamed: 0.1  ID_Patient_Care_Situation  Diagnosed_Condition  \\\n",
       "0           0             1                       9421                    3   \n",
       "1           1             2                      16205                    7   \n",
       "2           2             3                       5582                   31   \n",
       "3           3             6                      17785                   49   \n",
       "4           4             8                      11729                   36   \n",
       "\n",
       "   Patient_ID Treated_with_drugs  Patient_Age  Patient_Body_Mass_Index  \\\n",
       "0        2972                DX6            2                28.852743   \n",
       "1        8608                DX6           20                26.179725   \n",
       "2       10074                DX6            8                22.638945   \n",
       "3        6663                DX5            5                23.882432   \n",
       "4        8098                DX6           43                22.182933   \n",
       "\n",
       "  Patient_Smoker Patient_Rural_Urban Patient_mental_condition    A    B    C  \\\n",
       "0             NO               RURAL                   Stable  1.0  0.0  1.0   \n",
       "1             NO               RURAL                   Stable  1.0  0.0  0.0   \n",
       "2             NO               RURAL                   Stable  1.0  0.0  0.0   \n",
       "3             NO               RURAL                   Stable  1.0  0.0  1.0   \n",
       "4            YES               RURAL                   Stable  1.0  0.0  0.0   \n",
       "\n",
       "     D    E    F    Z  Number_of_prev_cond  Survived_1_year  \n",
       "0  0.0  1.0  0.0  0.0                  3.0                0  \n",
       "1  0.0  1.0  0.0  0.0                  2.0                1  \n",
       "2  0.0  1.0  0.0  0.0                  2.0                0  \n",
       "3  0.0  0.0  0.0  0.0                  2.0                1  \n",
       "4  1.0  0.0  0.0  0.0                  2.0                0  "
      ]
     },
     "execution_count": 10,
     "metadata": {},
     "output_type": "execute_result"
    }
   ],
   "source": [
    "import pandas as pd\n",
    "df = pd.read_csv(\"data/Patient Survival.csv\")\n",
    "df.head()"
   ]
  },
  {
   "cell_type": "code",
   "execution_count": 11,
   "id": "965db1d6",
   "metadata": {},
   "outputs": [
    {
     "name": "stdout",
     "output_type": "stream",
     "text": [
      "(500, 20)\n"
     ]
    }
   ],
   "source": [
    "exp_sample = df.sample(n = 500)\n",
    "print(exp_sample.shape)"
   ]
  },
  {
   "cell_type": "code",
   "execution_count": 12,
   "id": "4724ee38",
   "metadata": {
    "scrolled": true
   },
   "outputs": [
    {
     "name": "stdout",
     "output_type": "stream",
     "text": [
      "(60, 5)\n"
     ]
    }
   ],
   "source": [
    "exp_sample = df.groupby('Treated_with_drugs').sample(30)\n",
    "col = ['Patient_Age', 'Patient_Body_Mass_Index', 'Patient_Smoker', 'Diagnosed_Condition', 'Survived_1_year']\n",
    "exp_sample = exp_sample[col]\n",
    "print(exp_sample.shape)"
   ]
  }
 ],
 "metadata": {
  "kernelspec": {
   "display_name": "Python 3 (ipykernel)",
   "language": "python",
   "name": "python3"
  },
  "language_info": {
   "codemirror_mode": {
    "name": "ipython",
    "version": 3
   },
   "file_extension": ".py",
   "mimetype": "text/x-python",
   "name": "python",
   "nbconvert_exporter": "python",
   "pygments_lexer": "ipython3",
   "version": "3.9.7"
  }
 },
 "nbformat": 4,
 "nbformat_minor": 5
}
