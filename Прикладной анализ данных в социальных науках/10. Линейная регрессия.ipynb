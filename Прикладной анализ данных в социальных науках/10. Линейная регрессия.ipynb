{
 "cells": [
  {
   "cell_type": "markdown",
   "id": "16bb5298",
   "metadata": {},
   "source": [
    "# 10. Линейная регрессия"
   ]
  },
  {
   "cell_type": "code",
   "execution_count": 1,
   "id": "9034634a",
   "metadata": {},
   "outputs": [
    {
     "data": {
      "text/plain": [
       "Index(['Unnamed: 0', 'Artist', 'Url_spotify', 'Track', 'Album', 'Album_type',\n",
       "       'Uri', 'Danceability', 'Energy', 'Key', 'Loudness', 'Speechiness',\n",
       "       'Acousticness', 'Instrumentalness', 'Liveness', 'Valence', 'Tempo',\n",
       "       'Duration_ms', 'Url_youtube', 'Title', 'Channel', 'Views', 'Likes',\n",
       "       'Comments', 'Description', 'Licensed', 'official_video', 'Stream'],\n",
       "      dtype='object')"
      ]
     },
     "execution_count": 1,
     "metadata": {},
     "output_type": "execute_result"
    }
   ],
   "source": [
    "import pandas as pd\n",
    "df = pd.read_csv('data/Spotify_Youtube.csv')\n",
    "df.columns"
   ]
  },
  {
   "cell_type": "code",
   "execution_count": 2,
   "id": "82b76849",
   "metadata": {},
   "outputs": [],
   "source": [
    "# миллисекунды в секунды\n",
    "df['Duration'] = df['Duration_ms'] / 1000"
   ]
  },
  {
   "cell_type": "code",
   "execution_count": 3,
   "id": "8aea876d",
   "metadata": {},
   "outputs": [],
   "source": [
    "# исключить все треки, которые длятся меньше 30 секунд и больше 300 секунд\n",
    "# чтобы избежать выбросов — влияния нетипичных песен на результаты регрессии\n",
    "df = df[(df['Duration'] < 300) & (df['Duration'] > 30)]"
   ]
  },
  {
   "cell_type": "code",
   "execution_count": 4,
   "id": "d67f003d",
   "metadata": {},
   "outputs": [
    {
     "name": "stdout",
     "output_type": "stream",
     "text": [
      "           Duration  Danceability      Loudness   Speechiness        Energy\n",
      "count  18646.000000  18646.000000  18646.000000  18646.000000  18646.000000\n",
      "mean     206.110522      0.626312     -7.536997      0.097840      0.638738\n",
      "std       45.703952      0.161589      4.577807      0.113562      0.213155\n",
      "min       30.985000      0.000000    -46.251000      0.000000      0.000055\n",
      "25%      176.144000      0.527000     -8.649750      0.035900      0.511000\n",
      "50%      207.264500      0.643000     -6.422000      0.051300      0.670000\n",
      "75%      237.559000      0.744000     -4.860000      0.107000      0.801000\n",
      "max      299.960000      0.975000      0.920000      0.964000      1.000000\n"
     ]
    }
   ],
   "source": [
    "df = df[['Duration', 'Danceability', 'Loudness', 'Speechiness', 'Energy']].dropna()\n",
    "print(df.describe())"
   ]
  },
  {
   "cell_type": "markdown",
   "id": "a0b400de",
   "metadata": {},
   "source": [
    "### Моделирование"
   ]
  },
  {
   "cell_type": "code",
   "execution_count": 5,
   "id": "b6ee1cb0",
   "metadata": {},
   "outputs": [],
   "source": [
    "import statsmodels.api as sm\n",
    "from statsmodels.regression.linear_model import OLS"
   ]
  },
  {
   "cell_type": "code",
   "execution_count": 6,
   "id": "7495428e",
   "metadata": {},
   "outputs": [
    {
     "name": "stderr",
     "output_type": "stream",
     "text": [
      "C:\\Users\\anike\\anaconda3\\lib\\site-packages\\statsmodels\\tsa\\tsatools.py:142: FutureWarning: In a future version of pandas all arguments of concat except for the argument 'objs' will be keyword-only\n",
      "  x = pd.concat(x[::order], 1)\n"
     ]
    }
   ],
   "source": [
    "X = df[['Danceability', 'Loudness', 'Speechiness', 'Energy']]\n",
    "Y = df['Duration']\n",
    "\n",
    "# добавляем b_0 (константу)\n",
    "X = sm.add_constant(X, prepend=False)"
   ]
  },
  {
   "cell_type": "code",
   "execution_count": 7,
   "id": "987747f0",
   "metadata": {},
   "outputs": [
    {
     "name": "stdout",
     "output_type": "stream",
     "text": [
      "                            OLS Regression Results                            \n",
      "==============================================================================\n",
      "Dep. Variable:               Duration   R-squared:                       0.046\n",
      "Model:                            OLS   Adj. R-squared:                  0.046\n",
      "Method:                 Least Squares   F-statistic:                     225.9\n",
      "Date:                Sun, 13 Aug 2023   Prob (F-statistic):          1.01e-189\n",
      "Time:                        17:08:30   Log-Likelihood:                -97284.\n",
      "No. Observations:               18646   AIC:                         1.946e+05\n",
      "Df Residuals:                   18641   BIC:                         1.946e+05\n",
      "Df Model:                           4                                         \n",
      "Covariance Type:            nonrobust                                         \n",
      "================================================================================\n",
      "                   coef    std err          t      P>|t|      [0.025      0.975]\n",
      "--------------------------------------------------------------------------------\n",
      "Danceability   -27.5230      2.208    -12.463      0.000     -31.851     -23.194\n",
      "Loudness         2.0397      0.111     18.413      0.000       1.823       2.257\n",
      "Speechiness    -39.7622      2.954    -13.461      0.000     -45.552     -33.972\n",
      "Energy          -3.9776      2.288     -1.739      0.082      -8.462       0.507\n",
      "const          245.1527      2.712     90.402      0.000     239.837     250.468\n",
      "==============================================================================\n",
      "Omnibus:                       69.121   Durbin-Watson:                   1.304\n",
      "Prob(Omnibus):                  0.000   Jarque-Bera (JB):               69.670\n",
      "Skew:                          -0.147   Prob(JB):                     7.44e-16\n",
      "Kurtosis:                       2.938   Cond. No.                         97.9\n",
      "==============================================================================\n",
      "\n",
      "Notes:\n",
      "[1] Standard Errors assume that the covariance matrix of the errors is correctly specified.\n"
     ]
    }
   ],
   "source": [
    "model = OLS(Y, X)\n",
    "res = model.fit()\n",
    "print(res.summary())\n"
   ]
  },
  {
   "cell_type": "markdown",
   "id": "f7dc0bcb",
   "metadata": {},
   "source": [
    "* $R-squared$ — коэффициент детерминации;\n",
    "* колонка $coef$ с коэффициентами $b$;\n",
    "* колонка $P > |t|$ , $p-value$ — используем для оценки значимости коэффициента."
   ]
  },
  {
   "cell_type": "markdown",
   "id": "0fb634d4",
   "metadata": {},
   "source": [
    "$p-value$ у переменной $Energy$ незначим (он больше $0.05$). Значит, мы исключим её из модели."
   ]
  },
  {
   "cell_type": "code",
   "execution_count": 8,
   "id": "d1584b1f",
   "metadata": {},
   "outputs": [
    {
     "name": "stdout",
     "output_type": "stream",
     "text": [
      "                            OLS Regression Results                            \n",
      "==============================================================================\n",
      "Dep. Variable:               Duration   R-squared:                       0.046\n",
      "Model:                            OLS   Adj. R-squared:                  0.046\n",
      "Method:                 Least Squares   F-statistic:                     300.2\n",
      "Date:                Sun, 13 Aug 2023   Prob (F-statistic):          2.43e-190\n",
      "Time:                        17:08:30   Log-Likelihood:                -97286.\n",
      "No. Observations:               18646   AIC:                         1.946e+05\n",
      "Df Residuals:                   18642   BIC:                         1.946e+05\n",
      "Df Model:                           3                                         \n",
      "Covariance Type:            nonrobust                                         \n",
      "================================================================================\n",
      "                   coef    std err          t      P>|t|      [0.025      0.975]\n",
      "--------------------------------------------------------------------------------\n",
      "Danceability   -27.2695      2.204    -12.375      0.000     -31.589     -22.950\n",
      "Loudness         1.8999      0.076     24.945      0.000       1.751       2.049\n",
      "Speechiness    -40.1560      2.945    -13.634      0.000     -45.929     -34.383\n",
      "const          241.4378      1.670    144.591      0.000     238.165     244.711\n",
      "==============================================================================\n",
      "Omnibus:                       71.496   Durbin-Watson:                   1.305\n",
      "Prob(Omnibus):                  0.000   Jarque-Bera (JB):               72.155\n",
      "Skew:                          -0.150   Prob(JB):                     2.15e-16\n",
      "Kurtosis:                       2.945   Cond. No.                         83.2\n",
      "==============================================================================\n",
      "\n",
      "Notes:\n",
      "[1] Standard Errors assume that the covariance matrix of the errors is correctly specified.\n"
     ]
    },
    {
     "name": "stderr",
     "output_type": "stream",
     "text": [
      "C:\\Users\\anike\\anaconda3\\lib\\site-packages\\statsmodels\\tsa\\tsatools.py:142: FutureWarning: In a future version of pandas all arguments of concat except for the argument 'objs' will be keyword-only\n",
      "  x = pd.concat(x[::order], 1)\n"
     ]
    }
   ],
   "source": [
    "X = df[['Danceability', 'Loudness', 'Speechiness']]\n",
    "Y = df['Duration']\n",
    " \n",
    "X = sm.add_constant(X, prepend=False)\n",
    " \n",
    "model = OLS(Y, X)\n",
    "res = model.fit()\n",
    "print(res.summary())"
   ]
  },
  {
   "cell_type": "markdown",
   "id": "309ee4e9",
   "metadata": {},
   "source": [
    "После удаления $Energy$ коэффициент детерминации совсем не изменился. Это показывает, что переменная $Energy$ совсем никак не объясняла изменчивость нашей зависимой переменной. \n",
    "\n",
    "**«Энергичность» песни никак не влияет на её длительность.**"
   ]
  },
  {
   "cell_type": "markdown",
   "id": "8cf05f28",
   "metadata": {},
   "source": [
    "Модель с единственной независимой переменной (связь между длительностью и танцевальностью песни). \n",
    "\n",
    "Понять, насколько добавление дополнительных переменных оказалось полезным"
   ]
  },
  {
   "cell_type": "code",
   "execution_count": 9,
   "id": "9aec13bf",
   "metadata": {},
   "outputs": [
    {
     "name": "stdout",
     "output_type": "stream",
     "text": [
      "                            OLS Regression Results                            \n",
      "==============================================================================\n",
      "Dep. Variable:               Duration   R-squared:                       0.003\n",
      "Model:                            OLS   Adj. R-squared:                  0.003\n",
      "Method:                 Least Squares   F-statistic:                     49.39\n",
      "Date:                Sun, 13 Aug 2023   Prob (F-statistic):           2.17e-12\n",
      "Time:                        17:08:30   Log-Likelihood:                -97701.\n",
      "No. Observations:               18646   AIC:                         1.954e+05\n",
      "Df Residuals:                   18644   BIC:                         1.954e+05\n",
      "Df Model:                           1                                         \n",
      "Covariance Type:            nonrobust                                         \n",
      "================================================================================\n",
      "                   coef    std err          t      P>|t|      [0.025      0.975]\n",
      "--------------------------------------------------------------------------------\n",
      "Danceability   -14.5388      2.069     -7.028      0.000     -18.594     -10.484\n",
      "const          215.2163      1.338    160.840      0.000     212.594     217.839\n",
      "==============================================================================\n",
      "Omnibus:                      369.810   Durbin-Watson:                   1.245\n",
      "Prob(Omnibus):                  0.000   Jarque-Bera (JB):              394.235\n",
      "Skew:                          -0.341   Prob(JB):                     2.47e-86\n",
      "Kurtosis:                       3.206   Cond. No.                         8.66\n",
      "==============================================================================\n",
      "\n",
      "Notes:\n",
      "[1] Standard Errors assume that the covariance matrix of the errors is correctly specified.\n"
     ]
    },
    {
     "name": "stderr",
     "output_type": "stream",
     "text": [
      "C:\\Users\\anike\\anaconda3\\lib\\site-packages\\statsmodels\\tsa\\tsatools.py:142: FutureWarning: In a future version of pandas all arguments of concat except for the argument 'objs' will be keyword-only\n",
      "  x = pd.concat(x[::order], 1)\n"
     ]
    }
   ],
   "source": [
    "X = df[['Danceability']]\n",
    "Y = df['Duration']\n",
    " \n",
    "X = sm.add_constant(X, prepend=False)\n",
    " \n",
    "model = OLS(Y, X)\n",
    "res = model.fit()\n",
    "print(res.summary())"
   ]
  },
  {
   "cell_type": "markdown",
   "id": "9f09afe8",
   "metadata": {},
   "source": [
    "Коэффициент детерминации стал значительно меньше **(0.003 вместо 0.046)** — от дополнительных переменных ($Loudness$ и $Speechiness$) всё же была польза."
   ]
  },
  {
   "cell_type": "markdown",
   "id": "ce962f99",
   "metadata": {},
   "source": [
    "### Проверка допущений"
   ]
  },
  {
   "cell_type": "code",
   "execution_count": 10,
   "id": "7e6bdb6b",
   "metadata": {},
   "outputs": [
    {
     "data": {
      "text/html": [
       "<div>\n",
       "<style scoped>\n",
       "    .dataframe tbody tr th:only-of-type {\n",
       "        vertical-align: middle;\n",
       "    }\n",
       "\n",
       "    .dataframe tbody tr th {\n",
       "        vertical-align: top;\n",
       "    }\n",
       "\n",
       "    .dataframe thead th {\n",
       "        text-align: right;\n",
       "    }\n",
       "</style>\n",
       "<table border=\"1\" class=\"dataframe\">\n",
       "  <thead>\n",
       "    <tr style=\"text-align: right;\">\n",
       "      <th></th>\n",
       "      <th>Duration</th>\n",
       "      <th>Danceability</th>\n",
       "      <th>Loudness</th>\n",
       "      <th>Speechiness</th>\n",
       "      <th>Energy</th>\n",
       "    </tr>\n",
       "  </thead>\n",
       "  <tbody>\n",
       "    <tr>\n",
       "      <th>0</th>\n",
       "      <td>222.640</td>\n",
       "      <td>0.818</td>\n",
       "      <td>-6.679</td>\n",
       "      <td>0.1770</td>\n",
       "      <td>0.705</td>\n",
       "    </tr>\n",
       "    <tr>\n",
       "      <th>1</th>\n",
       "      <td>200.173</td>\n",
       "      <td>0.676</td>\n",
       "      <td>-5.815</td>\n",
       "      <td>0.0302</td>\n",
       "      <td>0.703</td>\n",
       "    </tr>\n",
       "    <tr>\n",
       "      <th>2</th>\n",
       "      <td>215.150</td>\n",
       "      <td>0.695</td>\n",
       "      <td>-3.930</td>\n",
       "      <td>0.0522</td>\n",
       "      <td>0.923</td>\n",
       "    </tr>\n",
       "    <tr>\n",
       "      <th>3</th>\n",
       "      <td>233.867</td>\n",
       "      <td>0.689</td>\n",
       "      <td>-5.810</td>\n",
       "      <td>0.0260</td>\n",
       "      <td>0.739</td>\n",
       "    </tr>\n",
       "    <tr>\n",
       "      <th>5</th>\n",
       "      <td>245.000</td>\n",
       "      <td>0.760</td>\n",
       "      <td>-5.852</td>\n",
       "      <td>0.0372</td>\n",
       "      <td>0.891</td>\n",
       "    </tr>\n",
       "    <tr>\n",
       "      <th>...</th>\n",
       "      <td>...</td>\n",
       "      <td>...</td>\n",
       "      <td>...</td>\n",
       "      <td>...</td>\n",
       "      <td>...</td>\n",
       "    </tr>\n",
       "    <tr>\n",
       "      <th>20713</th>\n",
       "      <td>94.667</td>\n",
       "      <td>0.582</td>\n",
       "      <td>-6.344</td>\n",
       "      <td>0.0328</td>\n",
       "      <td>0.926</td>\n",
       "    </tr>\n",
       "    <tr>\n",
       "      <th>20714</th>\n",
       "      <td>150.857</td>\n",
       "      <td>0.531</td>\n",
       "      <td>-1.786</td>\n",
       "      <td>0.1370</td>\n",
       "      <td>0.936</td>\n",
       "    </tr>\n",
       "    <tr>\n",
       "      <th>20715</th>\n",
       "      <td>136.842</td>\n",
       "      <td>0.443</td>\n",
       "      <td>-4.679</td>\n",
       "      <td>0.0647</td>\n",
       "      <td>0.830</td>\n",
       "    </tr>\n",
       "    <tr>\n",
       "      <th>20716</th>\n",
       "      <td>108.387</td>\n",
       "      <td>0.417</td>\n",
       "      <td>-4.004</td>\n",
       "      <td>0.4190</td>\n",
       "      <td>0.767</td>\n",
       "    </tr>\n",
       "    <tr>\n",
       "      <th>20717</th>\n",
       "      <td>181.500</td>\n",
       "      <td>0.498</td>\n",
       "      <td>-4.543</td>\n",
       "      <td>0.1070</td>\n",
       "      <td>0.938</td>\n",
       "    </tr>\n",
       "  </tbody>\n",
       "</table>\n",
       "<p>18646 rows × 5 columns</p>\n",
       "</div>"
      ],
      "text/plain": [
       "       Duration  Danceability  Loudness  Speechiness  Energy\n",
       "0       222.640         0.818    -6.679       0.1770   0.705\n",
       "1       200.173         0.676    -5.815       0.0302   0.703\n",
       "2       215.150         0.695    -3.930       0.0522   0.923\n",
       "3       233.867         0.689    -5.810       0.0260   0.739\n",
       "5       245.000         0.760    -5.852       0.0372   0.891\n",
       "...         ...           ...       ...          ...     ...\n",
       "20713    94.667         0.582    -6.344       0.0328   0.926\n",
       "20714   150.857         0.531    -1.786       0.1370   0.936\n",
       "20715   136.842         0.443    -4.679       0.0647   0.830\n",
       "20716   108.387         0.417    -4.004       0.4190   0.767\n",
       "20717   181.500         0.498    -4.543       0.1070   0.938\n",
       "\n",
       "[18646 rows x 5 columns]"
      ]
     },
     "execution_count": 10,
     "metadata": {},
     "output_type": "execute_result"
    }
   ],
   "source": [
    "X = df\n",
    "X"
   ]
  },
  {
   "cell_type": "markdown",
   "id": "9fc7033d",
   "metadata": {},
   "source": [
    "Значение $vif$ выше 10 указывает на высокую корреляцию с другими независимыми переменными"
   ]
  },
  {
   "cell_type": "code",
   "execution_count": 11,
   "id": "8701a073",
   "metadata": {},
   "outputs": [
    {
     "name": "stdout",
     "output_type": "stream",
     "text": [
      "        feature       VIF\n",
      "0  Danceability  3.283729\n",
      "1      Loudness  2.593200\n",
      "2   Speechiness  1.822876\n"
     ]
    }
   ],
   "source": [
    "from statsmodels.stats.outliers_influence import variance_inflation_factor\n",
    " \n",
    "X = df[['Danceability', 'Loudness', 'Speechiness', 'Energy']]\n",
    "X = df[['Danceability', 'Loudness', 'Speechiness']]\n",
    " \n",
    "vif_data = pd.DataFrame()\n",
    "vif_data[\"feature\"] = X.columns\n",
    "\n",
    " \n",
    "vif_data[\"VIF\"] = [variance_inflation_factor(X.values, i)\n",
    "                          for i in range(len(X.columns))]\n",
    "  \n",
    "print(vif_data)\n",
    "\n",
    "# Energy высоко скоррелированна с другими переменными"
   ]
  },
  {
   "cell_type": "markdown",
   "id": "eec91f22",
   "metadata": {},
   "source": [
    "# Crimes - 2001 to Present\n",
    "\n",
    "преступления в Чикаго с 2001 по настоящее время"
   ]
  },
  {
   "cell_type": "code",
   "execution_count": 12,
   "id": "0a65d1fe",
   "metadata": {},
   "outputs": [
    {
     "data": {
      "text/html": [
       "<div>\n",
       "<style scoped>\n",
       "    .dataframe tbody tr th:only-of-type {\n",
       "        vertical-align: middle;\n",
       "    }\n",
       "\n",
       "    .dataframe tbody tr th {\n",
       "        vertical-align: top;\n",
       "    }\n",
       "\n",
       "    .dataframe thead th {\n",
       "        text-align: right;\n",
       "    }\n",
       "</style>\n",
       "<table border=\"1\" class=\"dataframe\">\n",
       "  <thead>\n",
       "    <tr style=\"text-align: right;\">\n",
       "      <th></th>\n",
       "      <th>Dates</th>\n",
       "      <th>Primary Type</th>\n",
       "      <th>Location Description</th>\n",
       "      <th>Arrest</th>\n",
       "      <th>Domestic</th>\n",
       "      <th>Ward</th>\n",
       "      <th>Counts</th>\n",
       "      <th>District</th>\n",
       "      <th>Primary Types</th>\n",
       "    </tr>\n",
       "  </thead>\n",
       "  <tbody>\n",
       "    <tr>\n",
       "      <th>0</th>\n",
       "      <td>2015-09-05</td>\n",
       "      <td>BATTERY</td>\n",
       "      <td>RESIDENCE</td>\n",
       "      <td>0</td>\n",
       "      <td>1</td>\n",
       "      <td>12.0</td>\n",
       "      <td>498</td>\n",
       "      <td>9</td>\n",
       "      <td>2</td>\n",
       "    </tr>\n",
       "    <tr>\n",
       "      <th>1</th>\n",
       "      <td>2015-09-04</td>\n",
       "      <td>THEFT</td>\n",
       "      <td>CTA BUS</td>\n",
       "      <td>0</td>\n",
       "      <td>0</td>\n",
       "      <td>29.0</td>\n",
       "      <td>179</td>\n",
       "      <td>15</td>\n",
       "      <td>29</td>\n",
       "    </tr>\n",
       "    <tr>\n",
       "      <th>2</th>\n",
       "      <td>2015-09-05</td>\n",
       "      <td>NARCOTICS</td>\n",
       "      <td>SIDEWALK</td>\n",
       "      <td>1</td>\n",
       "      <td>0</td>\n",
       "      <td>35.0</td>\n",
       "      <td>498</td>\n",
       "      <td>14</td>\n",
       "      <td>17</td>\n",
       "    </tr>\n",
       "    <tr>\n",
       "      <th>3</th>\n",
       "      <td>2015-09-05</td>\n",
       "      <td>ASSAULT</td>\n",
       "      <td>APARTMENT</td>\n",
       "      <td>0</td>\n",
       "      <td>1</td>\n",
       "      <td>28.0</td>\n",
       "      <td>498</td>\n",
       "      <td>15</td>\n",
       "      <td>1</td>\n",
       "    </tr>\n",
       "    <tr>\n",
       "      <th>4</th>\n",
       "      <td>2015-09-05</td>\n",
       "      <td>BURGLARY</td>\n",
       "      <td>RESIDENCE</td>\n",
       "      <td>0</td>\n",
       "      <td>0</td>\n",
       "      <td>21.0</td>\n",
       "      <td>498</td>\n",
       "      <td>6</td>\n",
       "      <td>3</td>\n",
       "    </tr>\n",
       "  </tbody>\n",
       "</table>\n",
       "</div>"
      ],
      "text/plain": [
       "        Dates Primary Type Location Description  Arrest  Domestic  Ward  \\\n",
       "0  2015-09-05      BATTERY            RESIDENCE       0         1  12.0   \n",
       "1  2015-09-04        THEFT              CTA BUS       0         0  29.0   \n",
       "2  2015-09-05    NARCOTICS             SIDEWALK       1         0  35.0   \n",
       "3  2015-09-05      ASSAULT            APARTMENT       0         1  28.0   \n",
       "4  2015-09-05     BURGLARY            RESIDENCE       0         0  21.0   \n",
       "\n",
       "   Counts  District  Primary Types  \n",
       "0     498         9              2  \n",
       "1     179        15             29  \n",
       "2     498        14             17  \n",
       "3     498        15              1  \n",
       "4     498         6              3  "
      ]
     },
     "execution_count": 12,
     "metadata": {},
     "output_type": "execute_result"
    }
   ],
   "source": [
    "import pandas as pd\n",
    "df = pd.read_csv(\"data/Crimes_2015.csv\")\n",
    "df.head()"
   ]
  },
  {
   "cell_type": "code",
   "execution_count": 13,
   "id": "2e64e630",
   "metadata": {},
   "outputs": [
    {
     "name": "stdout",
     "output_type": "stream",
     "text": [
      "THEFT\n"
     ]
    }
   ],
   "source": [
    "# самый частый тип совершения преступления, занесенный в базу\n",
    "print(df[\"Primary Type\"].value_counts().index[0])"
   ]
  },
  {
   "cell_type": "code",
   "execution_count": 14,
   "id": "7fe291c0",
   "metadata": {},
   "outputs": [
    {
     "name": "stdout",
     "output_type": "stream",
     "text": [
      "<class 'pandas.core.frame.DataFrame'>\n",
      "RangeIndex: 16649 entries, 0 to 16648\n",
      "Data columns (total 9 columns):\n",
      " #   Column                Non-Null Count  Dtype  \n",
      "---  ------                --------------  -----  \n",
      " 0   Dates                 16649 non-null  object \n",
      " 1   Primary Type          16649 non-null  object \n",
      " 2   Location Description  16649 non-null  object \n",
      " 3   Arrest                16649 non-null  int64  \n",
      " 4   Domestic              16649 non-null  int64  \n",
      " 5   Ward                  16649 non-null  float64\n",
      " 6   Counts                16649 non-null  int64  \n",
      " 7   District              16649 non-null  int64  \n",
      " 8   Primary Types         16649 non-null  int64  \n",
      "dtypes: float64(1), int64(5), object(3)\n",
      "memory usage: 1.1+ MB\n",
      "None\n"
     ]
    }
   ],
   "source": [
    "print(df.info())"
   ]
  },
  {
   "cell_type": "code",
   "execution_count": 15,
   "id": "f10713b5",
   "metadata": {},
   "outputs": [
    {
     "name": "stdout",
     "output_type": "stream",
     "text": [
      "10342076\n"
     ]
    }
   ],
   "source": [
    "df.dropna(how = 'any', inplace = True)\n",
    "print(df['Counts'].sum())"
   ]
  },
  {
   "cell_type": "code",
   "execution_count": 16,
   "id": "8f470599",
   "metadata": {
    "scrolled": true
   },
   "outputs": [],
   "source": [
    "# df.isnull()"
   ]
  },
  {
   "cell_type": "code",
   "execution_count": 18,
   "id": "c5b4f100",
   "metadata": {},
   "outputs": [
    {
     "data": {
      "image/png": "[encoded data removed]",
      "text/plain": [
       "<Figure size 432x288 with 1 Axes>"
      ]
     },
     "metadata": {
      "needs_background": "light"
     },
     "output_type": "display_data"
    }
   ],
   "source": [
    "import matplotlib.pyplot as plt\n",
    "\n",
    "df = pd.read_csv(\"data/Crimes_2015.csv\")\n",
    "\n",
    "# удаляем пустые строки\n",
    "df.dropna(inplace=True, how='any')\n",
    "\n",
    "# строим график распределения\n",
    "df.isnull().sum().plot(kind='bar')\n",
    "\n",
    "# сохраняем результат\n",
    "plt.savefig('result.png')"
   ]
  },
  {
   "cell_type": "code",
   "execution_count": null,
   "id": "f0216b63",
   "metadata": {},
   "outputs": [],
   "source": []
  },
  {
   "cell_type": "code",
   "execution_count": null,
   "id": "aceeb341",
   "metadata": {},
   "outputs": [],
   "source": []
  }
 ],
 "metadata": {
  "kernelspec": {
   "display_name": "Python 3 (ipykernel)",
   "language": "python",
   "name": "python3"
  },
  "language_info": {
   "codemirror_mode": {
    "name": "ipython",
    "version": 3
   },
   "file_extension": ".py",
   "mimetype": "text/x-python",
   "name": "python",
   "nbconvert_exporter": "python",
   "pygments_lexer": "ipython3",
   "version": "3.9.7"
  }
 },
 "nbformat": 4,
 "nbformat_minor": 5
}
