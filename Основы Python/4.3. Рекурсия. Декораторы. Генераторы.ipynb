{
 "cells": [
  {
   "cell_type": "markdown",
   "id": "37b31a3c",
   "metadata": {},
   "source": [
    "### A. Рекурсивный сумматор\n",
    "\n",
    "Напишите функцию recursive_sum, которая находит сумму всех позиционных аргументов."
   ]
  },
  {
   "cell_type": "code",
   "execution_count": 1,
   "id": "eb7a138f",
   "metadata": {},
   "outputs": [],
   "source": [
    "def recursive_sum(*args):\n",
    "    n = len(args)\n",
    "    if n == 0:\n",
    "        return 0\n",
    "    return args[n - 1] + recursive_sum(*args[:n - 1])\n",
    "\n",
    "assert recursive_sum(1, 2, 3) == 6\n",
    "assert recursive_sum(7, 1, 3, 2, 10) == 23"
   ]
  },
  {
   "cell_type": "markdown",
   "id": "31cc1a5f",
   "metadata": {},
   "source": [
    "### B. Рекурсивный сумматор цифр"
   ]
  },
  {
   "cell_type": "code",
   "execution_count": 2,
   "id": "acbcecdf",
   "metadata": {},
   "outputs": [],
   "source": [
    "def recursive_digit_sum(n):\n",
    "    if n == 0:\n",
    "        return 0\n",
    "    return n % 10 + recursive_digit_sum(n // 10)\n",
    "\n",
    "assert recursive_digit_sum(123) == 6\n",
    "assert recursive_digit_sum(7321346) == 26"
   ]
  },
  {
   "cell_type": "markdown",
   "id": "4ae7e0de",
   "metadata": {},
   "source": [
    "### C. Многочлен N-ой степени\n",
    "\n",
    "Напишите функцию make_equation, которая по заданным коэффициентам строит строку, описывающую валидное с точки зрения Python выражение без использования оператора возведения в степень.\n",
    "\n",
    "Многочлен второй степени с коэффициентами $a$, $b$ и $c$, например, можно записать в виде:$((a)∗x+b)∗x+c$\n",
    "\n",
    "**Пример 1**\n",
    "* Ввод: result = make_equation(3, 2, 1)\n",
    "* Вывод: result = '((3) * x + 2) * x + 1'\n",
    "\n",
    "**Пример 2**\n",
    "* Ввод: result = make_equation(3, 1, 5, 3)\n",
    "* Вывод: result = '(((3) * x + 1) * x + 5) * x + 3'"
   ]
  },
  {
   "cell_type": "code",
   "execution_count": 3,
   "id": "82377dae",
   "metadata": {},
   "outputs": [],
   "source": [
    "def make_equation(*args):\n",
    "    n = len(args)\n",
    "    if n == 1:\n",
    "        return f'{args[n - 1]}'\n",
    "    return f\"({make_equation(*args[:n - 1])}) * x + {args[n - 1]}\"\n",
    "\n",
    "assert make_equation(3, 1, 5, 3) == '(((3) * x + 1) * x + 5) * x + 3'\n",
    "assert make_equation(3, 2, 1) == '((3) * x + 2) * x + 1'"
   ]
  },
  {
   "cell_type": "markdown",
   "id": "f1812a26",
   "metadata": {},
   "source": [
    "### D. Декор результата\n",
    "\n",
    "Напишите декоратор answer, который преобразует функцию, принимающую неограниченное число позиционных и именованных параметров и возвращает её результат с припиской \"Результат функции: <значение>\"."
   ]
  },
  {
   "cell_type": "code",
   "execution_count": 4,
   "id": "a66aadd2",
   "metadata": {},
   "outputs": [],
   "source": [
    "def answer(f):\n",
    "    def decorated(*args, **kwargs):\n",
    "        return f\"Результат функции: {f(*args, **kwargs)}\"\n",
    "    return decorated"
   ]
  },
  {
   "cell_type": "code",
   "execution_count": 5,
   "id": "97fa34fb",
   "metadata": {},
   "outputs": [
    {
     "name": "stdout",
     "output_type": "stream",
     "text": [
      "Результат функции: 8\n",
      "Результат функции: 16\n"
     ]
    }
   ],
   "source": [
    "@answer\n",
    "def a_plus_b(a, b):\n",
    "    return a + b\n",
    "\n",
    "\n",
    "print(a_plus_b(3, 5))\n",
    "print(a_plus_b(7, 9))\n",
    "      \n",
    "# Результат функции: 8\n",
    "# Результат функции: 16"
   ]
  },
  {
   "cell_type": "code",
   "execution_count": 6,
   "id": "41869bd8",
   "metadata": {},
   "outputs": [
    {
     "name": "stdout",
     "output_type": "stream",
     "text": [
      "Результат функции: dehlorw\n",
      "Результат функции: адекортуыэ\n"
     ]
    }
   ],
   "source": [
    "@answer\n",
    "def get_letters(text: str) -> str:\n",
    "    return ''.join(sorted(set(filter(str.isalpha, text.lower()))))\n",
    "\n",
    "\n",
    "print(get_letters('Hello, world!'))\n",
    "print(get_letters('Декораторы это круто =)'))\n",
    "\n",
    "# Результат функции: dehlorw\n",
    "# Результат функции: адекортуыэ"
   ]
  },
  {
   "cell_type": "markdown",
   "id": "53ff2439",
   "metadata": {},
   "source": [
    "### E. Накопление результата\n",
    "\n",
    "Реализуйте декоратор result_accumulator, который модернизирует функцию с неопределенным количеством позиционных параметров следующим образом:\n",
    "* Добавляет именованный параметр method со значением по умолчанию accumulate;\n",
    "* При вызове функции с параметром method равным accumulate, результат сохраняется в очередь (для каждой функции в собственную), а функция ничего не возвращает;\n",
    "* При вызове функции с параметром method равным drop, возвращается все накопленные результаты, а очередь сбрасывается."
   ]
  },
  {
   "cell_type": "code",
   "execution_count": 7,
   "id": "997c0439",
   "metadata": {},
   "outputs": [],
   "source": [
    "def result_accumulator(a_plus_b):\n",
    "    queue = []\n",
    "    \n",
    "    def decorated(*args, **kwargs):\n",
    "        nonlocal queue\n",
    "        method = kwargs.get(\"method\", \"accumulate\")\n",
    "        if method == \"accumulate\":\n",
    "            queue.append(a_plus_b(*args))\n",
    "            return \n",
    "        elif method == \"drop\":\n",
    "            queue.append(a_plus_b(*args))\n",
    "            res = queue\n",
    "            queue = []\n",
    "            return res\n",
    "    return decorated"
   ]
  },
  {
   "cell_type": "code",
   "execution_count": 8,
   "id": "dae4b615",
   "metadata": {},
   "outputs": [
    {
     "name": "stdout",
     "output_type": "stream",
     "text": [
      "None\n",
      "None\n",
      "[8, 16, 2]\n",
      "None\n",
      "[-6, 45]\n"
     ]
    }
   ],
   "source": [
    "@result_accumulator\n",
    "def a_plus_b(a, b):\n",
    "    return a + b\n",
    "\n",
    "\n",
    "print(a_plus_b(3, 5, method=\"accumulate\"))\n",
    "print(a_plus_b(7, 9))\n",
    "print(a_plus_b(-3, 5, method=\"drop\"))\n",
    "print(a_plus_b(1, -7))\n",
    "print(a_plus_b(10, 35, method=\"drop\"))\n",
    "\n",
    "# None\n",
    "# None\n",
    "# [8, 16, 2]\n",
    "# None\n",
    "# [-6, 45]"
   ]
  },
  {
   "cell_type": "code",
   "execution_count": 9,
   "id": "99e35dfd",
   "metadata": {},
   "outputs": [
    {
     "name": "stdout",
     "output_type": "stream",
     "text": [
      "None\n",
      "None\n",
      "['dehlorw', 'адекортуыэ', 'авдеилмнопсх']\n"
     ]
    }
   ],
   "source": [
    "@result_accumulator\n",
    "def get_letters(text: str) -> str:\n",
    "    return ''.join(sorted(set(filter(str.isalpha, text.lower()))))\n",
    "\n",
    "\n",
    "print(get_letters('Hello, world!'))\n",
    "print(get_letters('Декораторы это круто =)'))\n",
    "print(get_letters('Ехали медведи на велосипеде', method='drop'))\n",
    "\n",
    "# None\n",
    "# None\n",
    "# ['dehlorw', 'адекортуыэ', 'авдеилмнопсх']"
   ]
  },
  {
   "cell_type": "markdown",
   "id": "16aaa8dc",
   "metadata": {},
   "source": [
    "### F. Сортировка слиянием\n",
    "\n",
    "Мы уже реализовывали функцию merge, которая способна \"слить\" два отсортированных списка в один.\n",
    "Чаще всего её применяют в рекурсивном алгоритме сортировки слиянием.\n",
    "\n",
    "Напишите рекурсивную функцию merge_sort, которая производит сортировку списка."
   ]
  },
  {
   "cell_type": "code",
   "execution_count": 10,
   "id": "674490b2",
   "metadata": {},
   "outputs": [
    {
     "name": "stdout",
     "output_type": "stream",
     "text": [
      "[1, 2, 3]\n",
      "[1, 3, 3, 5]\n"
     ]
    }
   ],
   "source": [
    "def merge_sort(arr):\n",
    "    if len(arr) in (0, 1):\n",
    "        return arr\n",
    "    mid = len(arr) // 2\n",
    "    A = merge_sort(arr[ : mid])\n",
    "    B = merge_sort(arr[mid : ])\n",
    "    C = []\n",
    "    ind_a, ind_b = 0, 0\n",
    "    while ind_a < len(A) and ind_b < len(B):\n",
    "        if A[ind_a] < B[ind_b]:\n",
    "            C.append(A[ind_a])\n",
    "            ind_a += 1\n",
    "        elif B[ind_b] <= A[ind_a]:\n",
    "            C.append(B[ind_b])\n",
    "            ind_b += 1\n",
    "    while ind_a < len(A):\n",
    "        C.append(A[ind_a])\n",
    "        ind_a += 1\n",
    "    while ind_b < len(B):\n",
    "        C.append(B[ind_b])\n",
    "        ind_b += 1\n",
    "    return C\n",
    "\n",
    "print(merge_sort([3, 2, 1]))\n",
    "print(merge_sort([3, 1, 5, 3]))"
   ]
  },
  {
   "cell_type": "markdown",
   "id": "49b137bc",
   "metadata": {},
   "source": [
    "### G. Однотипность не порок\n",
    "\n",
    "Во многих задачах требуется контроль входных данных, в частности, несмотря на динамическую типизацию, их типов.\n",
    "\n",
    "Разработайте декоратор same_type, который производит проверку переменного количества позиционных параметров. В случае получения не одинаковых типов выводит сообщение \"Обнаружены различные типы данных\" и прерывает выполнение функции."
   ]
  },
  {
   "cell_type": "code",
   "execution_count": 11,
   "id": "603983de",
   "metadata": {},
   "outputs": [],
   "source": [
    "def same_type(f):\n",
    "    \n",
    "    def decorated(*args, **kwargs):\n",
    "        types = {type(x) for x in args}\n",
    "        if len(types) == 1:\n",
    "            return f(*args)\n",
    "        else:\n",
    "            print(\"Обнаружены различные типы данных\")\n",
    "            return False\n",
    "    return decorated"
   ]
  },
  {
   "cell_type": "code",
   "execution_count": 12,
   "id": "96bb16cc",
   "metadata": {},
   "outputs": [
    {
     "name": "stdout",
     "output_type": "stream",
     "text": [
      "Обнаружены различные типы данных\n",
      "Fail\n",
      "Обнаружены различные типы данных\n",
      "Fail\n",
      "2\n"
     ]
    }
   ],
   "source": [
    "@same_type\n",
    "def a_plus_b(a, b):\n",
    "    return a + b\n",
    "\n",
    "\n",
    "print(a_plus_b(3, 5.2) or 'Fail')\n",
    "print(a_plus_b(7, '9') or 'Fail')\n",
    "print(a_plus_b(-3, 5) or 'Fail')\n",
    "\n",
    "# Обнаружены различные типы данных\n",
    "# Fail\n",
    "# Обнаружены различные типы данных\n",
    "# Fail\n",
    "# 2"
   ]
  },
  {
   "cell_type": "code",
   "execution_count": 13,
   "id": "a9a6b6d9",
   "metadata": {},
   "outputs": [
    {
     "name": "stdout",
     "output_type": "stream",
     "text": [
      "Hello, world!\n",
      "Обнаружены различные типы данных\n",
      "Fail\n",
      "Обнаружены различные типы данных\n",
      "Fail\n"
     ]
    }
   ],
   "source": [
    "@same_type\n",
    "def combine_text(*words):\n",
    "    return ' '.join(words)\n",
    "\n",
    "print(combine_text('Hello,', 'world!') or 'Fail')\n",
    "print(combine_text(2, '+', 2, '=', 4) or 'Fail')\n",
    "print(combine_text('Список из 30', 0, 'можно получить так', [0] * 30) or 'Fail')\n",
    "\n",
    "# Hello, world!\n",
    "# Обнаружены различные типы данных\n",
    "# Fail\n",
    "# Обнаружены различные типы данных\n",
    "# Fail"
   ]
  },
  {
   "cell_type": "markdown",
   "id": "943afe63",
   "metadata": {},
   "source": [
    "### H. Генератор Фибоначчи\n",
    "\n",
    "Числа Фибоначчи весьма интересная последовательность и используется в различных математических задачах. В ней каждый следующий элемент равен сумме двух предыдущих. Математики начинают эту последовательность с двух единиц, но мы же с вами программисты, поэтому привыкли вести счет с нуля.\n",
    "\n",
    "Напишите генератор fibonacci, который последовательно возвращает заданное количество чисел Фибоначчи по \"правилам программистов\"."
   ]
  },
  {
   "cell_type": "code",
   "execution_count": 14,
   "id": "53941b39",
   "metadata": {},
   "outputs": [
    {
     "name": "stdout",
     "output_type": "stream",
     "text": [
      "0 1 1 2 3\n"
     ]
    }
   ],
   "source": [
    "def fibonacci(n):\n",
    "    n_1, n_2 = 0, 1\n",
    "    for i in range(n):\n",
    "        yield n_1\n",
    "        n_1, n_2 = n_2, n_1 + n_2\n",
    "        \n",
    "print(*fibonacci(5))\n",
    "assert list(fibonacci(10)) == [0, 1, 1, 2, 3, 5, 8, 13, 21, 34]"
   ]
  },
  {
   "cell_type": "markdown",
   "id": "2c7826be",
   "metadata": {},
   "source": [
    "### I. Циклический генератор\n",
    "\n",
    "Напишите генератор cycle, который принимает список и работает аналогично итератору itertools.cycle."
   ]
  },
  {
   "cell_type": "code",
   "execution_count": 15,
   "id": "8b2587d0",
   "metadata": {},
   "outputs": [
    {
     "name": "stdout",
     "output_type": "stream",
     "text": [
      "1 2 3 1 2\n",
      "1 2 3 4 1 2 3 4 1 2 3 4 1 2 3\n"
     ]
    }
   ],
   "source": [
    "def cycle(sequence):\n",
    "    i = 0\n",
    "    while True:\n",
    "        yield sequence[i]\n",
    "        i = (i + 1) % len(sequence)\n",
    "        \n",
    "print(*(x for _, x in zip(range(5), cycle([1, 2, 3]))))\n",
    "print(*(x for _, x in zip(range(15), cycle([1, 2, 3, 4]))))"
   ]
  },
  {
   "cell_type": "markdown",
   "id": "8fea5b7f",
   "metadata": {},
   "source": [
    "### J. \"Выпрямление\" списка\n",
    "\n",
    "Весьма часто, данные, которые мы получаем из различных источников, не удовлетворяют нашим пожеланиям. Одна из частых проблем – излишняя вложенность списков.\n",
    "\n",
    "Напишите функцию make_linear, которая принимает список списков и возвращает его \"выпрямленное\" представление.\\\n",
    "\n",
    "Пример:\n",
    "\n",
    "result = make_linear([1, [2, [3, 4]], 5, 6])\n",
    "\n",
    "// Вызов make_linear([1, 2, [3]])\n",
    "\n",
    "// Вызов make_linear([3])\n",
    "\n",
    "result = [1, 2, 3]"
   ]
  },
  {
   "cell_type": "code",
   "execution_count": 16,
   "id": "fd837f36",
   "metadata": {},
   "outputs": [
    {
     "name": "stdout",
     "output_type": "stream",
     "text": [
      "x = 1\n",
      "new_list  [1]\n",
      "x = 2\n",
      "new_list  [1, 2]\n",
      "x = 3\n",
      "new_list  [1, 2, 3]\n",
      "x = 4\n",
      "new_list  [1, 2, 3, 4]\n",
      "x = 5\n",
      "new_list  [1, 2, 3, 4, 5]\n",
      "x = 6\n",
      "new_list  [1, 2, 3, 4, 5, 6]\n"
     ]
    },
    {
     "data": {
      "text/plain": [
       "[1, 2, 3, 4, 5, 6]"
      ]
     },
     "execution_count": 16,
     "metadata": {},
     "output_type": "execute_result"
    }
   ],
   "source": [
    "new_list = []\n",
    "\n",
    "def make_linear(list_of_lists):    \n",
    "    for x in list_of_lists:\n",
    "        if isinstance(x, list):\n",
    "            make_linear(x)\n",
    "            continue\n",
    "        print('x =', x)\n",
    "        new_list.append(x)\n",
    "        print('new_list ', new_list)\n",
    "    return new_list\n",
    "\n",
    "    \n",
    "make_linear([1, [2, [3, 4]], 5, 6])"
   ]
  }
 ],
 "metadata": {
  "kernelspec": {
   "display_name": "Python 3 (ipykernel)",
   "language": "python",
   "name": "python3"
  },
  "language_info": {
   "codemirror_mode": {
    "name": "ipython",
    "version": 3
   },
   "file_extension": ".py",
   "mimetype": "text/x-python",
   "name": "python",
   "nbconvert_exporter": "python",
   "pygments_lexer": "ipython3",
   "version": "3.9.7"
  }
 },
 "nbformat": 4,
 "nbformat_minor": 5
}
