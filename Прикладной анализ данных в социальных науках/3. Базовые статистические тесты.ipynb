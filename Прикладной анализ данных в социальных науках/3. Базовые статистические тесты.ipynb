{
 "cells": [
  {
   "cell_type": "markdown",
   "id": "4d712262",
   "metadata": {},
   "source": [
    "# 3. Парные сравнения числовых данных"
   ]
  },
  {
   "cell_type": "markdown",
   "id": "e97ead39",
   "metadata": {},
   "source": [
    "**Биномиальный тест**\n",
    "\n",
    "* Тип: непараметрический.\n",
    "* Применяется: предположение о том, **как часто должно случаться событие**, и мы хотим его проверить.\n",
    "* Данные: переменная, которая принимает два значения.\n",
    "* Нулевая гипотеза: нет разницы между фактическим и ожидаемым распределением.\n",
    "\n",
    ">binomtest(bins[0], bins[1])"
   ]
  },
  {
   "cell_type": "markdown",
   "id": "bf7f542b",
   "metadata": {},
   "source": [
    "**T-test**\n",
    "\n",
    "* Тип: параметрический\n",
    "* Применяется: когда нужно понять, есть ли различия в среднем значении переменной между двумя группами наблюдений.\n",
    "* Данные: должны состоять из двух переменных — по одной переменной они делятся на две группы, по другой — сравниваются между собой\n",
    "* Нулевая гипотеза: средние значения переменной в двух группах не отличаются значимо\n",
    "\n",
    "Используется в задачах:\n",
    "- Cравнение средних в независимых группах\t\n",
    "- Cравнение средних в связанных группах\n",
    "- Cравнение среднего одной группы с фиксированным показателем\n",
    "\n",
    "Прежде чем проводить T-тест, необходимо проверить, что переменная для оценки:\n",
    "+ непрерывна; \n",
    "+ распределена близко к нормальному (**критерий Шапиро — Уилка: shapiro(books)**);\n",
    "+ обладает незначительными различиями в дисперсии между двумя группами наблюдений (**критерий Левене: levene(books_1, books_2)**).\n",
    "\n",
    "> ttest_ind(books_1, books_2)\n",
    "\n",
    "\n"
   ]
  },
  {
   "cell_type": "markdown",
   "id": "86b40508",
   "metadata": {},
   "source": [
    "**ANOVA (ANalysis Of VAriance — «анализ дисперсии средних оценок»)**\n",
    "\n",
    "* Тип: параметрический.\n",
    "* Применяется: когда нужно понять, есть ли различия в среднем значении какой-то переменной, когда групп наблюдений больше чем две.\n",
    "* Данные: должны состоять из двух переменных — по одной переменной они делятся на несколько групп, по другой сравниваются между собой.\n",
    "* Нулевая гипотеза: нет различий в дисперсии между переменной внутри групп и между группами.\n",
    "\n",
    "> f_oneway(books_1, books_2, books_3, books_4)\n",
    "\n",
    "Типы ANOVA различаются по количеству независимых переменных:\n",
    "* однофакторный дисперсионный анализ (с одной независимой переменной)\n",
    "* двухфакторный дисперсионный анализ (с двумя независимыми переменными)"
   ]
  },
  {
   "cell_type": "markdown",
   "id": "0f1a2eef",
   "metadata": {},
   "source": [
    "Набор данных «Amazon Top 50 Bestselling Books 2009 - 2019» состоит из информации о 50 самых популярных книг на Amazon за каждый год с 2009-го по 2019-й."
   ]
  },
  {
   "cell_type": "code",
   "execution_count": 1,
   "id": "531b6012",
   "metadata": {},
   "outputs": [
    {
     "data": {
      "text/html": [
       "<div>\n",
       "<style scoped>\n",
       "    .dataframe tbody tr th:only-of-type {\n",
       "        vertical-align: middle;\n",
       "    }\n",
       "\n",
       "    .dataframe tbody tr th {\n",
       "        vertical-align: top;\n",
       "    }\n",
       "\n",
       "    .dataframe thead th {\n",
       "        text-align: right;\n",
       "    }\n",
       "</style>\n",
       "<table border=\"1\" class=\"dataframe\">\n",
       "  <thead>\n",
       "    <tr style=\"text-align: right;\">\n",
       "      <th></th>\n",
       "      <th>Name</th>\n",
       "      <th>Author</th>\n",
       "      <th>User Rating</th>\n",
       "      <th>Reviews</th>\n",
       "      <th>Price</th>\n",
       "      <th>Year</th>\n",
       "      <th>Genre</th>\n",
       "    </tr>\n",
       "  </thead>\n",
       "  <tbody>\n",
       "    <tr>\n",
       "      <th>0</th>\n",
       "      <td>10-Day Green Smoothie Cleanse</td>\n",
       "      <td>JJ Smith</td>\n",
       "      <td>4.7</td>\n",
       "      <td>17350</td>\n",
       "      <td>8</td>\n",
       "      <td>2016</td>\n",
       "      <td>Non Fiction</td>\n",
       "    </tr>\n",
       "    <tr>\n",
       "      <th>1</th>\n",
       "      <td>11/22/63: A Novel</td>\n",
       "      <td>Stephen King</td>\n",
       "      <td>4.6</td>\n",
       "      <td>2052</td>\n",
       "      <td>22</td>\n",
       "      <td>2011</td>\n",
       "      <td>Fiction</td>\n",
       "    </tr>\n",
       "    <tr>\n",
       "      <th>2</th>\n",
       "      <td>12 Rules for Life: An Antidote to Chaos</td>\n",
       "      <td>Jordan B. Peterson</td>\n",
       "      <td>4.7</td>\n",
       "      <td>18979</td>\n",
       "      <td>15</td>\n",
       "      <td>2018</td>\n",
       "      <td>Non Fiction</td>\n",
       "    </tr>\n",
       "    <tr>\n",
       "      <th>3</th>\n",
       "      <td>1984 (Signet Classics)</td>\n",
       "      <td>George Orwell</td>\n",
       "      <td>4.7</td>\n",
       "      <td>21424</td>\n",
       "      <td>6</td>\n",
       "      <td>2017</td>\n",
       "      <td>Fiction</td>\n",
       "    </tr>\n",
       "    <tr>\n",
       "      <th>4</th>\n",
       "      <td>5,000 Awesome Facts (About Everything!) (Natio...</td>\n",
       "      <td>National Geographic Kids</td>\n",
       "      <td>4.8</td>\n",
       "      <td>7665</td>\n",
       "      <td>12</td>\n",
       "      <td>2019</td>\n",
       "      <td>Non Fiction</td>\n",
       "    </tr>\n",
       "  </tbody>\n",
       "</table>\n",
       "</div>"
      ],
      "text/plain": [
       "                                                Name  \\\n",
       "0                      10-Day Green Smoothie Cleanse   \n",
       "1                                  11/22/63: A Novel   \n",
       "2            12 Rules for Life: An Antidote to Chaos   \n",
       "3                             1984 (Signet Classics)   \n",
       "4  5,000 Awesome Facts (About Everything!) (Natio...   \n",
       "\n",
       "                     Author  User Rating  Reviews  Price  Year        Genre  \n",
       "0                  JJ Smith          4.7    17350      8  2016  Non Fiction  \n",
       "1              Stephen King          4.6     2052     22  2011      Fiction  \n",
       "2        Jordan B. Peterson          4.7    18979     15  2018  Non Fiction  \n",
       "3             George Orwell          4.7    21424      6  2017      Fiction  \n",
       "4  National Geographic Kids          4.8     7665     12  2019  Non Fiction  "
      ]
     },
     "execution_count": 1,
     "metadata": {},
     "output_type": "execute_result"
    }
   ],
   "source": [
    "import pandas as pd\n",
    "df = pd.read_csv('data/bestsellers.csv')\n",
    "df.head()"
   ]
  },
  {
   "cell_type": "code",
   "execution_count": 2,
   "id": "8723352f",
   "metadata": {},
   "outputs": [
    {
     "name": "stdout",
     "output_type": "stream",
     "text": [
      "[310, 240]\n",
      "p-value = 0.00322\n",
      "Отвергаем нулевую гипотезу\n"
     ]
    }
   ],
   "source": [
    "from scipy.stats import binom_test\n",
    "\n",
    "# H0: «Вероятность встретить художественную и нехудожественную книгу в нашей подборке равна».\n",
    "\n",
    "bins = df['Genre'].value_counts().tolist()\n",
    "print(bins)\n",
    "\n",
    "p_value = binom_test(bins)\n",
    "print(f'p-value = {p_value:.5f}')\n",
    "\n",
    "print('Принимаем') if p_value > 0.05 else print('Отвергаем нулевую гипотезу')"
   ]
  },
  {
   "cell_type": "code",
   "execution_count": 3,
   "id": "1050054b",
   "metadata": {},
   "outputs": [
    {
     "name": "stdout",
     "output_type": "stream",
     "text": [
      "Shapiro test for Non Fiction, p-value = 0.324\n",
      "Принимаем Н0: Жанр Non Fiction распределен случанйным образом\n",
      "\n",
      "Shapiro test for Fiction, p-value = 0.401\n",
      "Принимаем Н0: Жанр Fiction распределен случанйным образом\n",
      "\n",
      "Levene test, p-value = 0.134\n",
      "Принимаем Н0: Различия дисперсии между группами не значимы\n",
      "\n",
      "T-test, p-value = 0.119\n",
      "Принимаем Н0: Между средними оценками художественных и нехудожественных книг нет значимого отличия\n",
      "\n",
      "4.66, 4.608\n"
     ]
    }
   ],
   "source": [
    "# Проверка равенства средних значений в двух выборках (t-тест)\n",
    "\n",
    "# H0: Между средними оценками художественных и нехудожественных книг нет значимого отличия.\n",
    "\n",
    "# 1. Нормальность распределения средних в выборке. \n",
    "from scipy.stats import shapiro\n",
    "H0 = 'Жанр Non Fiction распределен случанйным образом'\n",
    "means_non_fic = []\n",
    "for _ in range(500): # Cлучайным образом берем 100 случайных нехудожественных книг и вычислять их среднюю оценку. \n",
    "    sample_mean = df[df['Genre'] == \"Non Fiction\"].sample(100)['User Rating'].mean()\n",
    "    means_non_fic.append(sample_mean)\n",
    "shapiro_pvalue_non_fic = shapiro(means_non_fic).pvalue\n",
    "print(f'Shapiro test for Non Fiction, p-value = {shapiro_pvalue_non_fic:.3f}')\n",
    "print(f'Принимаем Н0: {H0}') if shapiro_pvalue_non_fic > 0.05 else print('Отвергаем Н0: {H0}')\n",
    "\n",
    "H0 = 'Жанр Fiction распределен случанйным образом'\n",
    "means_fic = []\n",
    "for _ in range(500):\n",
    "    sample_mean = df[df['Genre'] == \"Fiction\"].sample(100)['User Rating'].mean()\n",
    "    means_fic.append(sample_mean)\n",
    "shapiro_pvalue_fic = shapiro(means_fic).pvalue\n",
    "print(f'\\nShapiro test for Fiction, p-value = {shapiro_pvalue_fic:.3f}')\n",
    "print(f'Принимаем Н0: {H0}') if shapiro_pvalue_fic > 0.05 else print('Отвергаем Н0: {H0}')\n",
    "\n",
    "\n",
    "# 2. Равнозначность дисперсии по группам\n",
    "from scipy.stats import levene\n",
    "H0 = 'Различия дисперсии между группами не значимы'\n",
    "user_rating_fic = df[df['Genre'] == \"Fiction\"].sample(100)['User Rating']\n",
    "user_rating_non = df[df['Genre'] == \"Non Fiction\"].sample(100)['User Rating']\n",
    "levene_pvalue = levene(user_rating_fic, user_rating_non).pvalue\n",
    "print(f'\\nLevene test, p-value = {levene_pvalue:.3f}')\n",
    "print(f'Принимаем Н0: {H0}') if levene_pvalue > 0.05 else print('Отвергаем Н0: {H0}')\n",
    "\n",
    "\n",
    "# 3. t-test\n",
    "from scipy.stats import ttest_ind\n",
    "H0 = 'Между средними оценками художественных и нехудожественных книг нет значимого отличия'\n",
    "ttest_ind_pvalue = ttest_ind(user_rating_fic, user_rating_non, equal_var=True).pvalue # equal_var - применяет поправку Уэлча\n",
    "print(f'\\nT-test, p-value = {ttest_ind_pvalue:.3f}')\n",
    "print(f'Принимаем Н0: {H0}') if ttest_ind_pvalue > 0.05 else print('Не можем принять нулевую гипотезу. Вывод: жанр связан с оценкой книг.')\n",
    "\n",
    "from statistics import mean\n",
    "print(f'\\n{mean(user_rating_fic)}, {mean(user_rating_non)}')"
   ]
  },
  {
   "cell_type": "markdown",
   "id": "fe749729",
   "metadata": {},
   "source": [
    "Это может быть связано с тем, что оценка художественных книг зависит от того, нравятся они или не нравятся, \n",
    "а нехудожественных — от того, воспринимаются ли они как полезные или нет."
   ]
  },
  {
   "cell_type": "code",
   "execution_count": 4,
   "id": "ae3a6fd2",
   "metadata": {},
   "outputs": [
    {
     "name": "stdout",
     "output_type": "stream",
     "text": [
      "Принимаем Н0: Оценки в топе за год между собой не различаются\n"
     ]
    }
   ],
   "source": [
    "# Отличаются ли средние оценки книг за три последних года? \n",
    "# H0: «За последние три года книги в среднем оценивали одинаково».\n",
    "\n",
    "from scipy.stats import f_oneway\n",
    "\n",
    "ur_2019 = df[(df['Year'] == 2019)]['User Rating']\n",
    "ur_2018 = df[(df['Year'] == 2018)]['User Rating']\n",
    "ur_2017 = df[(df['Year'] == 2017)]['User Rating']\n",
    "\n",
    "f_oneway_pvalue = f_oneway(ur_2019, ur_2018, ur_2017).pvalue\n",
    "print(f'Принимаем Н0: Оценки в топе за год между собой не различаются') if f_oneway_pvalue > 0.05 else print('Не можем принять нулевую гипотезу.')\n",
    "\n"
   ]
  },
  {
   "cell_type": "code",
   "execution_count": 5,
   "id": "edb04e97",
   "metadata": {},
   "outputs": [
    {
     "data": {
      "text/html": [
       "<div>\n",
       "<style scoped>\n",
       "    .dataframe tbody tr th:only-of-type {\n",
       "        vertical-align: middle;\n",
       "    }\n",
       "\n",
       "    .dataframe tbody tr th {\n",
       "        vertical-align: top;\n",
       "    }\n",
       "\n",
       "    .dataframe thead th {\n",
       "        text-align: right;\n",
       "    }\n",
       "</style>\n",
       "<table border=\"1\" class=\"dataframe\">\n",
       "  <thead>\n",
       "    <tr style=\"text-align: right;\">\n",
       "      <th></th>\n",
       "      <th>Name</th>\n",
       "      <th>Author</th>\n",
       "      <th>User Rating</th>\n",
       "      <th>Reviews</th>\n",
       "      <th>Price</th>\n",
       "      <th>Year</th>\n",
       "      <th>Genre</th>\n",
       "      <th>User Rating (Round)</th>\n",
       "      <th>Price (Above Average)</th>\n",
       "    </tr>\n",
       "  </thead>\n",
       "  <tbody>\n",
       "    <tr>\n",
       "      <th>0</th>\n",
       "      <td>10-Day Green Smoothie Cleanse</td>\n",
       "      <td>JJ Smith</td>\n",
       "      <td>4.7</td>\n",
       "      <td>17350</td>\n",
       "      <td>8</td>\n",
       "      <td>2016</td>\n",
       "      <td>Non Fiction</td>\n",
       "      <td>5</td>\n",
       "      <td>No</td>\n",
       "    </tr>\n",
       "    <tr>\n",
       "      <th>1</th>\n",
       "      <td>11/22/63: A Novel</td>\n",
       "      <td>Stephen King</td>\n",
       "      <td>4.6</td>\n",
       "      <td>2052</td>\n",
       "      <td>22</td>\n",
       "      <td>2011</td>\n",
       "      <td>Fiction</td>\n",
       "      <td>5</td>\n",
       "      <td>Yes</td>\n",
       "    </tr>\n",
       "    <tr>\n",
       "      <th>2</th>\n",
       "      <td>12 Rules for Life: An Antidote to Chaos</td>\n",
       "      <td>Jordan B. Peterson</td>\n",
       "      <td>4.7</td>\n",
       "      <td>18979</td>\n",
       "      <td>15</td>\n",
       "      <td>2018</td>\n",
       "      <td>Non Fiction</td>\n",
       "      <td>5</td>\n",
       "      <td>Yes</td>\n",
       "    </tr>\n",
       "    <tr>\n",
       "      <th>3</th>\n",
       "      <td>1984 (Signet Classics)</td>\n",
       "      <td>George Orwell</td>\n",
       "      <td>4.7</td>\n",
       "      <td>21424</td>\n",
       "      <td>6</td>\n",
       "      <td>2017</td>\n",
       "      <td>Fiction</td>\n",
       "      <td>5</td>\n",
       "      <td>No</td>\n",
       "    </tr>\n",
       "    <tr>\n",
       "      <th>4</th>\n",
       "      <td>5,000 Awesome Facts (About Everything!) (Natio...</td>\n",
       "      <td>National Geographic Kids</td>\n",
       "      <td>4.8</td>\n",
       "      <td>7665</td>\n",
       "      <td>12</td>\n",
       "      <td>2019</td>\n",
       "      <td>Non Fiction</td>\n",
       "      <td>5</td>\n",
       "      <td>No</td>\n",
       "    </tr>\n",
       "  </tbody>\n",
       "</table>\n",
       "</div>"
      ],
      "text/plain": [
       "                                                Name  \\\n",
       "0                      10-Day Green Smoothie Cleanse   \n",
       "1                                  11/22/63: A Novel   \n",
       "2            12 Rules for Life: An Antidote to Chaos   \n",
       "3                             1984 (Signet Classics)   \n",
       "4  5,000 Awesome Facts (About Everything!) (Natio...   \n",
       "\n",
       "                     Author  User Rating  Reviews  Price  Year        Genre  \\\n",
       "0                  JJ Smith          4.7    17350      8  2016  Non Fiction   \n",
       "1              Stephen King          4.6     2052     22  2011      Fiction   \n",
       "2        Jordan B. Peterson          4.7    18979     15  2018  Non Fiction   \n",
       "3             George Orwell          4.7    21424      6  2017      Fiction   \n",
       "4  National Geographic Kids          4.8     7665     12  2019  Non Fiction   \n",
       "\n",
       "   User Rating (Round) Price (Above Average)  \n",
       "0                    5                    No  \n",
       "1                    5                   Yes  \n",
       "2                    5                   Yes  \n",
       "3                    5                    No  \n",
       "4                    5                    No  "
      ]
     },
     "execution_count": 5,
     "metadata": {},
     "output_type": "execute_result"
    }
   ],
   "source": [
    "import pandas as pd\n",
    "df = pd.read_csv('data/books_prep.csv')\n",
    "df.head()"
   ]
  },
  {
   "cell_type": "code",
   "execution_count": 6,
   "id": "7bde0e3d",
   "metadata": {},
   "outputs": [
    {
     "data": {
      "text/plain": [
       "count    550.000000\n",
       "mean       4.618364\n",
       "std        0.226980\n",
       "min        3.300000\n",
       "25%        4.500000\n",
       "50%        4.700000\n",
       "75%        4.800000\n",
       "max        4.900000\n",
       "Name: User Rating, dtype: float64"
      ]
     },
     "execution_count": 6,
     "metadata": {},
     "output_type": "execute_result"
    }
   ],
   "source": [
    "df['User Rating'].describe() # ['mean']"
   ]
  },
  {
   "cell_type": "code",
   "execution_count": 7,
   "id": "78bd2abc",
   "metadata": {},
   "outputs": [
    {
     "name": "stdout",
     "output_type": "stream",
     "text": [
      "Имя самого популярного писателя - Jeff Kinney\n",
      "Cредние значения рейтинга для «дешёвых» книг 4.650 и «дорогих» книг 4.560\n",
      "Test Levene: p-value = 0.104\n",
      "T-test, p-value = 0.00001\n",
      "ANOVA Test: p-value = 0.297\n"
     ]
    }
   ],
   "source": [
    "# Выведите имя самого популярного писателя в наборе данных\n",
    "name = df['Author'].describe()['top']\n",
    "print(f'Имя самого популярного писателя - {name}')\n",
    "\n",
    "mean_yes = df['User Rating'][df['Price (Above Average)'] == 'Yes'].describe()['mean']\n",
    "mean_no = df['User Rating'][df['Price (Above Average)'] == 'No'].describe()['mean']\n",
    "print(f'Cредние значения рейтинга для «дешёвых» книг {mean_no:.3f} и «дорогих» книг {mean_yes:.3f}')\n",
    "\n",
    "user_rating_PriceYes = df['User Rating'][df['Price (Above Average)'] == 'Yes'] # .sample(100)['User Rating']\n",
    "user_rating_PriceNo = df['User Rating'][df['Price (Above Average)'] == 'No'] # .sample(100)['User Rating']\n",
    "# user_rating_PriceYes = df[df['Price (Above Average)'] == 'Yes'].sample(100)['User Rating']\n",
    "# user_rating_PriceNo  = df[df['Price (Above Average)'] == 'No'].sample(100)['User Rating']\n",
    " \n",
    "from scipy.stats import levene\n",
    "levene_pvalue = levene(user_rating_PriceYes, user_rating_PriceNo).pvalue\n",
    "print(f'Test Levene: p-value = {levene_pvalue:.3f}')\n",
    "\n",
    "from scipy.stats import ttest_ind\n",
    "ttest_ind_pvalue = ttest_ind(user_rating_PriceYes, user_rating_PriceNo).pvalue \n",
    "print(f'T-test, p-value = {ttest_ind_pvalue:.5f}')\n",
    "\n",
    "from scipy.stats import f_oneway\n",
    "# H0: «Рейтинг книги для каждой из групп не зависит от числа рецензий»\n",
    "# (на хорошие книги люди охотнее пишут рецензии)\n",
    "ur_3 = df[(df['User Rating (Round)'] == 3)]['Reviews']\n",
    "ur_4 = df[(df['User Rating (Round)'] == 4)]['Reviews']\n",
    "ur_5 = df[(df['User Rating (Round)'] == 5)]['Reviews']\n",
    "\n",
    "f_oneway_pvalue = f_oneway(ur_3, ur_4, ur_5).pvalue\n",
    "print(f'ANOVA Test: p-value = {f_oneway_pvalue:.3f}')"
   ]
  }
 ],
 "metadata": {
  "kernelspec": {
   "display_name": "Python 3 (ipykernel)",
   "language": "python",
   "name": "python3"
  },
  "language_info": {
   "codemirror_mode": {
    "name": "ipython",
    "version": 3
   },
   "file_extension": ".py",
   "mimetype": "text/x-python",
   "name": "python",
   "nbconvert_exporter": "python",
   "pygments_lexer": "ipython3",
   "version": "3.9.7"
  }
 },
 "nbformat": 4,
 "nbformat_minor": 5
}
