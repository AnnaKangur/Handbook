{
 "cells": [
  {
   "cell_type": "markdown",
   "id": "b346e659",
   "metadata": {},
   "source": [
    "# 4. Категориальные данные"
   ]
  },
  {
   "cell_type": "markdown",
   "id": "06c8ba9e",
   "metadata": {},
   "source": [
    "**Таблицы сопряжённости (сводные таблицы)** - показывают совместное распределение двух переменных и позволяют увидеть, есть связь между ними или нет"
   ]
  },
  {
   "cell_type": "code",
   "execution_count": 1,
   "id": "a6c83f22",
   "metadata": {},
   "outputs": [
    {
     "data": {
      "text/html": [
       "<div>\n",
       "<style scoped>\n",
       "    .dataframe tbody tr th:only-of-type {\n",
       "        vertical-align: middle;\n",
       "    }\n",
       "\n",
       "    .dataframe tbody tr th {\n",
       "        vertical-align: top;\n",
       "    }\n",
       "\n",
       "    .dataframe thead th {\n",
       "        text-align: right;\n",
       "    }\n",
       "</style>\n",
       "<table border=\"1\" class=\"dataframe\">\n",
       "  <thead>\n",
       "    <tr style=\"text-align: right;\">\n",
       "      <th></th>\n",
       "      <th>Наблюдаемые значения</th>\n",
       "      <th>Голова болит</th>\n",
       "      <th>Голова не болит</th>\n",
       "      <th>Всего</th>\n",
       "    </tr>\n",
       "  </thead>\n",
       "  <tbody>\n",
       "    <tr>\n",
       "      <th>0</th>\n",
       "      <td>Делают гимнастику</td>\n",
       "      <td>20</td>\n",
       "      <td>30</td>\n",
       "      <td>50</td>\n",
       "    </tr>\n",
       "    <tr>\n",
       "      <th>1</th>\n",
       "      <td>Не делают гимнастику</td>\n",
       "      <td>50</td>\n",
       "      <td>25</td>\n",
       "      <td>75</td>\n",
       "    </tr>\n",
       "    <tr>\n",
       "      <th>2</th>\n",
       "      <td>Всего</td>\n",
       "      <td>70</td>\n",
       "      <td>55</td>\n",
       "      <td>125</td>\n",
       "    </tr>\n",
       "  </tbody>\n",
       "</table>\n",
       "</div>"
      ],
      "text/plain": [
       "   Наблюдаемые значения  Голова болит  Голова не болит  Всего\n",
       "0     Делают гимнастику            20               30     50\n",
       "1  Не делают гимнастику            50               25     75\n",
       "2                 Всего            70               55    125"
      ]
     },
     "execution_count": 1,
     "metadata": {},
     "output_type": "execute_result"
    }
   ],
   "source": [
    "import pandas as pd\n",
    "d = {'Наблюдаемые значения': ['Делают гимнастику', 'Не делают гимнастику', 'Всего'], \n",
    "     'Голова болит': [20,50,70],\n",
    "     'Голова не болит': [30,25,55],\n",
    "     'Всего': [50,75,125]}\n",
    "df = pd.DataFrame(data = d) #, index = ['Делают гимнастику', 'Не делают гимнастику', 'Всего'])\n",
    "df"
   ]
  },
  {
   "cell_type": "markdown",
   "id": "feef117e",
   "metadata": {},
   "source": [
    "Таблица сопряжённости ничего не говорит нам о том, насколько значима связь, которую мы можем предположить.\n",
    "\n",
    "Для этого мы можем использовать **тест Хи-квадрат**, который позволяет оценить её значимость."
   ]
  },
  {
   "cell_type": "markdown",
   "id": "a50d0bac",
   "metadata": {},
   "source": [
    "**Хи-квадрат**\n",
    "* Тип: непараметрический.\n",
    "* Применяется: когда есть предложение о связи двух переменных, выраженных с помощью категориальных шкал.\n",
    "* Проверяет: существует ли статистически значимое отличие средних значений между двумя группами.\n",
    "* Данные: должны состоять из двух категориальных переменных.\n",
    "\n",
    "Определяется следующими условиями:\n",
    "* переменные в группах должны быть номинальными (цвет глаз) или порядковыми («никогда», «иногда», «часто»);\n",
    "* в выборке не менее 30 наблюдений;\n",
    "* группы должны быть независимы друг от друга (поэтому нельзя, например, использовать тест «Хи-квадрат» для сравнения по типу «было/стало»)"
   ]
  },
  {
   "cell_type": "markdown",
   "id": "0523c644",
   "metadata": {},
   "source": [
    "Попробуем доказать, что между головной болью и гимнастикой для глаз действительно есть **отрицательная связь** (если респондент делает гимнастику, то у него скорее не болит голова).\n",
    "\n",
    "Хи-квадрат позволяет рассчитывать частоты тех или иных ответов – как это происходит, сейчас выясним.\n",
    "\n",
    "Добавим к таблице сопряжённости ещё одну строку: частоту (в процентах) головной боли у всех испытуемых. \n",
    "При этом мы не будем учитывать фактор гимнастики, а посмотрим просто на частоту головной боли:"
   ]
  },
  {
   "cell_type": "code",
   "execution_count": 2,
   "id": "fd016f38",
   "metadata": {
    "scrolled": true
   },
   "outputs": [
    {
     "data": {
      "text/html": [
       "<div>\n",
       "<style scoped>\n",
       "    .dataframe tbody tr th:only-of-type {\n",
       "        vertical-align: middle;\n",
       "    }\n",
       "\n",
       "    .dataframe tbody tr th {\n",
       "        vertical-align: top;\n",
       "    }\n",
       "\n",
       "    .dataframe thead th {\n",
       "        text-align: right;\n",
       "    }\n",
       "</style>\n",
       "<table border=\"1\" class=\"dataframe\">\n",
       "  <thead>\n",
       "    <tr style=\"text-align: right;\">\n",
       "      <th></th>\n",
       "      <th>Наблюдаемые значения</th>\n",
       "      <th>Голова болит</th>\n",
       "      <th>Голова не болит</th>\n",
       "      <th>Всего</th>\n",
       "    </tr>\n",
       "  </thead>\n",
       "  <tbody>\n",
       "    <tr>\n",
       "      <th>0</th>\n",
       "      <td>Делают гимнастику</td>\n",
       "      <td>20.0</td>\n",
       "      <td>30.0</td>\n",
       "      <td>50.0</td>\n",
       "    </tr>\n",
       "    <tr>\n",
       "      <th>1</th>\n",
       "      <td>Не делают гимнастику</td>\n",
       "      <td>50.0</td>\n",
       "      <td>25.0</td>\n",
       "      <td>75.0</td>\n",
       "    </tr>\n",
       "    <tr>\n",
       "      <th>2</th>\n",
       "      <td>Всего</td>\n",
       "      <td>70.0</td>\n",
       "      <td>55.0</td>\n",
       "      <td>125.0</td>\n",
       "    </tr>\n",
       "    <tr>\n",
       "      <th>3</th>\n",
       "      <td>Частота (в %) головной боли у всех испытуемых</td>\n",
       "      <td>56.0</td>\n",
       "      <td>44.0</td>\n",
       "      <td>100.0</td>\n",
       "    </tr>\n",
       "  </tbody>\n",
       "</table>\n",
       "</div>"
      ],
      "text/plain": [
       "                            Наблюдаемые значения  Голова болит  \\\n",
       "0                              Делают гимнастику          20.0   \n",
       "1                           Не делают гимнастику          50.0   \n",
       "2                                          Всего          70.0   \n",
       "3  Частота (в %) головной боли у всех испытуемых          56.0   \n",
       "\n",
       "   Голова не болит  Всего  \n",
       "0             30.0   50.0  \n",
       "1             25.0   75.0  \n",
       "2             55.0  125.0  \n",
       "3             44.0  100.0  "
      ]
     },
     "execution_count": 2,
     "metadata": {},
     "output_type": "execute_result"
    }
   ],
   "source": [
    "Headache = 70 / 125 \n",
    "not_Headache = 55 / 125\n",
    "\n",
    "df.loc[len(df.index)] = ['Частота (в %) головной боли у всех испытуемых', \n",
    "                         Headache * 100, not_Headache * 100, (Headache + not_Headache)* 100]\n",
    "df"
   ]
  },
  {
   "cell_type": "code",
   "execution_count": 3,
   "id": "551f5f3c",
   "metadata": {},
   "outputs": [
    {
     "data": {
      "text/plain": [
       "0.56"
      ]
     },
     "execution_count": 3,
     "metadata": {},
     "output_type": "execute_result"
    }
   ],
   "source": [
    "70 / 125"
   ]
  },
  {
   "cell_type": "code",
   "execution_count": 4,
   "id": "bc0175b4",
   "metadata": {},
   "outputs": [
    {
     "data": {
      "text/plain": [
       "(28.000000000000004, 22.0)"
      ]
     },
     "execution_count": 4,
     "metadata": {},
     "output_type": "execute_result"
    }
   ],
   "source": [
    "50 * 0.56, 50 * 0.44"
   ]
  },
  {
   "cell_type": "markdown",
   "id": "81a321a8",
   "metadata": {},
   "source": [
    "Теперь рассчитаем ожидаемые значения – то есть те, которые были бы в случае отсутствия эффекта от гимнастики для глаз (как будто различий в группах нет)."
   ]
  },
  {
   "cell_type": "code",
   "execution_count": 5,
   "id": "3388fa87",
   "metadata": {},
   "outputs": [
    {
     "data": {
      "text/html": [
       "<div>\n",
       "<style scoped>\n",
       "    .dataframe tbody tr th:only-of-type {\n",
       "        vertical-align: middle;\n",
       "    }\n",
       "\n",
       "    .dataframe tbody tr th {\n",
       "        vertical-align: top;\n",
       "    }\n",
       "\n",
       "    .dataframe thead th {\n",
       "        text-align: right;\n",
       "    }\n",
       "</style>\n",
       "<table border=\"1\" class=\"dataframe\">\n",
       "  <thead>\n",
       "    <tr style=\"text-align: right;\">\n",
       "      <th></th>\n",
       "      <th>Ожидаемые значения</th>\n",
       "      <th>Голова болит</th>\n",
       "      <th>Голова не болит</th>\n",
       "      <th>Всего</th>\n",
       "    </tr>\n",
       "  </thead>\n",
       "  <tbody>\n",
       "    <tr>\n",
       "      <th>0</th>\n",
       "      <td>Делают гимнастику</td>\n",
       "      <td>28.0</td>\n",
       "      <td>22.0</td>\n",
       "      <td>50</td>\n",
       "    </tr>\n",
       "    <tr>\n",
       "      <th>1</th>\n",
       "      <td>Не делают гимнастику</td>\n",
       "      <td>42.0</td>\n",
       "      <td>33.0</td>\n",
       "      <td>75</td>\n",
       "    </tr>\n",
       "    <tr>\n",
       "      <th>2</th>\n",
       "      <td>Всего</td>\n",
       "      <td>70.0</td>\n",
       "      <td>55.0</td>\n",
       "      <td>125</td>\n",
       "    </tr>\n",
       "  </tbody>\n",
       "</table>\n",
       "</div>"
      ],
      "text/plain": [
       "     Ожидаемые значения  Голова болит  Голова не болит  Всего\n",
       "0     Делают гимнастику          28.0             22.0     50\n",
       "1  Не делают гимнастику          42.0             33.0     75\n",
       "2                 Всего          70.0             55.0    125"
      ]
     },
     "execution_count": 5,
     "metadata": {},
     "output_type": "execute_result"
    }
   ],
   "source": [
    "import pandas as pd\n",
    "d2 = {'Ожидаемые значения': ['Делают гимнастику', 'Не делают гимнастику', 'Всего'], \n",
    "     'Голова болит': [50 * Headache, 75 * Headache, 70],\n",
    "     'Голова не болит': [50 * not_Headache, 75 * not_Headache,55],\n",
    "     'Всего': [50, 75, 125]}\n",
    "df2 = pd.DataFrame(data = d2)\n",
    "df2"
   ]
  },
  {
   "cell_type": "markdown",
   "id": "ba78958d",
   "metadata": {},
   "source": [
    "Сравнение двух таблиц показывает эффект от гимнастики для глаз искажает ожидаемые значения. Чтобы понять, насколько серьёзно это искажение, нужно рассчитать хи-квадрат.\n",
    "\n",
    "[Table: Chi-Square Probabilities](https://people.richland.edu/james/lecture/m170/tbl-chi.html)"
   ]
  },
  {
   "cell_type": "code",
   "execution_count": 6,
   "id": "5b5a760d",
   "metadata": {},
   "outputs": [],
   "source": [
    "# status = pd.Series([\"single\", \"married\", \"divorced\", \"single\", \"divorced\"], dtype = \"category\")\n",
    "# print(status)"
   ]
  },
  {
   "cell_type": "code",
   "execution_count": 7,
   "id": "950a00de",
   "metadata": {},
   "outputs": [
    {
     "data": {
      "text/plain": [
       "Power_divergenceResult(statistic=6.872, pvalue=0.07609142575306141)"
      ]
     },
     "execution_count": 7,
     "metadata": {},
     "output_type": "execute_result"
    }
   ],
   "source": [
    "import scipy.stats as stats\n",
    "\n",
    "# ожидаемые значения\n",
    "stats.chisquare([28, 22, 42, 33])"
   ]
  },
  {
   "cell_type": "markdown",
   "id": "297a4a80",
   "metadata": {},
   "source": [
    "P-value составляет больше 0.05, поэтому мы не можем отвергнуть нулевую гипотезу и приходим к выводу, что между группами людей, занимающихся гимнастикой и нет, нет статистически значимых различий по уровню головной боли."
   ]
  },
  {
   "cell_type": "markdown",
   "id": "65660990",
   "metadata": {},
   "source": [
    "Создадим базу данных новорождённых детей: их имена, вес в граммах и гендер."
   ]
  },
  {
   "cell_type": "code",
   "execution_count": 8,
   "id": "3724627f",
   "metadata": {
    "scrolled": true
   },
   "outputs": [
    {
     "name": "stdout",
     "output_type": "stream",
     "text": [
      "     name weight  gender\n",
      "0   Roman    3.4    male\n",
      "1    Anna    3.5  female\n",
      "2  Dmitry    2.9    male \n",
      "\n",
      "name      object\n",
      "weight    object\n",
      "gender    object\n",
      "dtype: object\n"
     ]
    }
   ],
   "source": [
    "import pandas as pd\n",
    "children = pd.DataFrame({\"name\" : [\"Roman\", \"Anna\", \"Dmitry\"],\n",
    "                         \"weight\": [3.4, 3.5, 2.9],\n",
    "                         \"gender\" : [\"male\", \"female\", \"male\"]}, dtype = \"object\")\n",
    "print(children, '\\n')\n",
    "print(children.dtypes)"
   ]
  },
  {
   "cell_type": "code",
   "execution_count": 9,
   "id": "898830f6",
   "metadata": {},
   "outputs": [
    {
     "name": "stdout",
     "output_type": "stream",
     "text": [
      "     name weight  gender\n",
      "0   Roman    3.4       0\n",
      "1    Anna    3.5       1\n",
      "2  Dmitry    2.9       0 \n",
      "\n",
      "name      object\n",
      "weight    object\n",
      "gender     int64\n",
      "dtype: object\n"
     ]
    }
   ],
   "source": [
    "# изменим на категориальный тип\n",
    "children['gender'].astype('category')\n",
    "\n",
    "# присвоить названиям категорий числовые наименования\n",
    "children['gender'].replace(['male','female'], [0, 1], inplace = True)\n",
    "\n",
    "# изменить тип переменной на числовую\n",
    "children.gender.astype('int32')\n",
    "\n",
    "print(children, '\\n')\n",
    "print(children.dtypes)"
   ]
  },
  {
   "cell_type": "code",
   "execution_count": 10,
   "id": "c206d8f1",
   "metadata": {},
   "outputs": [
    {
     "name": "stdout",
     "output_type": "stream",
     "text": [
      "     name  weight  gender\n",
      "0   Roman       3       0\n",
      "1    Anna       3       1\n",
      "2  Dmitry       2       0 \n",
      "\n",
      "name      object\n",
      "weight     int32\n",
      "gender     int64\n",
      "dtype: object\n"
     ]
    }
   ],
   "source": [
    "# Изменение типов float — integer\n",
    "children['weight'] = children['weight'].astype(int)\n",
    "\n",
    "print(children, '\\n')\n",
    "print(children.dtypes)"
   ]
  },
  {
   "cell_type": "markdown",
   "id": "d57df597",
   "metadata": {},
   "source": [
    "[Dataset - COVID-19 and its Impact on Students](https://www.kaggle.com/datasets/kunal28chaturvedi/covid19-and-its-impact-on-students) \n",
    "\n",
    "https://github.com/yndx-handbook/data-analysis-in-social-sciences-handbook/blob/main/04.%20Категориальные%20данные/COVID-19%20SSR.csv"
   ]
  },
  {
   "cell_type": "code",
   "execution_count": 11,
   "id": "033efac3",
   "metadata": {},
   "outputs": [
    {
     "data": {
      "text/html": [
       "<div>\n",
       "<style scoped>\n",
       "    .dataframe tbody tr th:only-of-type {\n",
       "        vertical-align: middle;\n",
       "    }\n",
       "\n",
       "    .dataframe tbody tr th {\n",
       "        vertical-align: top;\n",
       "    }\n",
       "\n",
       "    .dataframe thead th {\n",
       "        text-align: right;\n",
       "    }\n",
       "</style>\n",
       "<table border=\"1\" class=\"dataframe\">\n",
       "  <thead>\n",
       "    <tr style=\"text-align: right;\">\n",
       "      <th></th>\n",
       "      <th>Unnamed: 0</th>\n",
       "      <th>ID</th>\n",
       "      <th>Region of residence</th>\n",
       "      <th>Age of Subject</th>\n",
       "      <th>Time spent on Online Class</th>\n",
       "      <th>Rating of Online Class experience</th>\n",
       "      <th>Medium for online class</th>\n",
       "      <th>Time spent on self study</th>\n",
       "      <th>Time spent on fitness</th>\n",
       "      <th>Time spent on sleep</th>\n",
       "      <th>Time spent on social media</th>\n",
       "      <th>Prefered social media platform</th>\n",
       "      <th>Time spent on TV</th>\n",
       "      <th>Number of meals per day</th>\n",
       "      <th>Change in your weight</th>\n",
       "      <th>Health issue during lockdown</th>\n",
       "      <th>Stress busters</th>\n",
       "      <th>Time utilized</th>\n",
       "      <th>Do you find yourself more connected with your family, close friends , relatives  ?</th>\n",
       "      <th>What you miss the most</th>\n",
       "    </tr>\n",
       "  </thead>\n",
       "  <tbody>\n",
       "    <tr>\n",
       "      <th>0</th>\n",
       "      <td>0</td>\n",
       "      <td>R1</td>\n",
       "      <td>Delhi-NCR</td>\n",
       "      <td>21</td>\n",
       "      <td>2.0</td>\n",
       "      <td>GOOD</td>\n",
       "      <td>Laptop/Desktop</td>\n",
       "      <td>4.0</td>\n",
       "      <td>0.0</td>\n",
       "      <td>7.0</td>\n",
       "      <td>3.0</td>\n",
       "      <td>Linkedin</td>\n",
       "      <td>1</td>\n",
       "      <td>4</td>\n",
       "      <td>Increased</td>\n",
       "      <td>NO</td>\n",
       "      <td>Cooking</td>\n",
       "      <td>YES</td>\n",
       "      <td>YES</td>\n",
       "      <td>School/college</td>\n",
       "    </tr>\n",
       "    <tr>\n",
       "      <th>1</th>\n",
       "      <td>1</td>\n",
       "      <td>R2</td>\n",
       "      <td>Delhi-NCR</td>\n",
       "      <td>21</td>\n",
       "      <td>0.0</td>\n",
       "      <td>EXCELLENT</td>\n",
       "      <td>Smartphone</td>\n",
       "      <td>0.0</td>\n",
       "      <td>2.0</td>\n",
       "      <td>10.0</td>\n",
       "      <td>3.0</td>\n",
       "      <td>Youtube</td>\n",
       "      <td>0</td>\n",
       "      <td>3</td>\n",
       "      <td>Decreased</td>\n",
       "      <td>NO</td>\n",
       "      <td>Scrolling through social media</td>\n",
       "      <td>YES</td>\n",
       "      <td>NO</td>\n",
       "      <td>Roaming around freely</td>\n",
       "    </tr>\n",
       "    <tr>\n",
       "      <th>2</th>\n",
       "      <td>2</td>\n",
       "      <td>R3</td>\n",
       "      <td>Delhi-NCR</td>\n",
       "      <td>20</td>\n",
       "      <td>7.0</td>\n",
       "      <td>VERY POOR</td>\n",
       "      <td>Laptop/Desktop</td>\n",
       "      <td>3.0</td>\n",
       "      <td>0.0</td>\n",
       "      <td>6.0</td>\n",
       "      <td>2.0</td>\n",
       "      <td>Linkedin</td>\n",
       "      <td>0</td>\n",
       "      <td>3</td>\n",
       "      <td>Remain Constant</td>\n",
       "      <td>NO</td>\n",
       "      <td>Listening to music</td>\n",
       "      <td>NO</td>\n",
       "      <td>YES</td>\n",
       "      <td>Travelling</td>\n",
       "    </tr>\n",
       "    <tr>\n",
       "      <th>3</th>\n",
       "      <td>3</td>\n",
       "      <td>R4</td>\n",
       "      <td>Delhi-NCR</td>\n",
       "      <td>20</td>\n",
       "      <td>3.0</td>\n",
       "      <td>VERY POOR</td>\n",
       "      <td>Smartphone</td>\n",
       "      <td>2.0</td>\n",
       "      <td>1.0</td>\n",
       "      <td>6.0</td>\n",
       "      <td>5.0</td>\n",
       "      <td>Instagram</td>\n",
       "      <td>0</td>\n",
       "      <td>3</td>\n",
       "      <td>Decreased</td>\n",
       "      <td>NO</td>\n",
       "      <td>Watching web series</td>\n",
       "      <td>NO</td>\n",
       "      <td>NO</td>\n",
       "      <td>Friends , relatives</td>\n",
       "    </tr>\n",
       "    <tr>\n",
       "      <th>4</th>\n",
       "      <td>4</td>\n",
       "      <td>R5</td>\n",
       "      <td>Delhi-NCR</td>\n",
       "      <td>21</td>\n",
       "      <td>3.0</td>\n",
       "      <td>GOOD</td>\n",
       "      <td>Laptop/Desktop</td>\n",
       "      <td>3.0</td>\n",
       "      <td>1.0</td>\n",
       "      <td>8.0</td>\n",
       "      <td>3.0</td>\n",
       "      <td>Instagram</td>\n",
       "      <td>1</td>\n",
       "      <td>4</td>\n",
       "      <td>Remain Constant</td>\n",
       "      <td>NO</td>\n",
       "      <td>Social Media</td>\n",
       "      <td>NO</td>\n",
       "      <td>NO</td>\n",
       "      <td>Travelling</td>\n",
       "    </tr>\n",
       "  </tbody>\n",
       "</table>\n",
       "</div>"
      ],
      "text/plain": [
       "   Unnamed: 0  ID Region of residence  Age of Subject  \\\n",
       "0           0  R1           Delhi-NCR              21   \n",
       "1           1  R2           Delhi-NCR              21   \n",
       "2           2  R3           Delhi-NCR              20   \n",
       "3           3  R4           Delhi-NCR              20   \n",
       "4           4  R5           Delhi-NCR              21   \n",
       "\n",
       "   Time spent on Online Class Rating of Online Class experience  \\\n",
       "0                         2.0                              GOOD   \n",
       "1                         0.0                         EXCELLENT   \n",
       "2                         7.0                         VERY POOR   \n",
       "3                         3.0                         VERY POOR   \n",
       "4                         3.0                              GOOD   \n",
       "\n",
       "  Medium for online class  Time spent on self study  Time spent on fitness  \\\n",
       "0          Laptop/Desktop                       4.0                    0.0   \n",
       "1              Smartphone                       0.0                    2.0   \n",
       "2          Laptop/Desktop                       3.0                    0.0   \n",
       "3              Smartphone                       2.0                    1.0   \n",
       "4          Laptop/Desktop                       3.0                    1.0   \n",
       "\n",
       "   Time spent on sleep  Time spent on social media  \\\n",
       "0                  7.0                         3.0   \n",
       "1                 10.0                         3.0   \n",
       "2                  6.0                         2.0   \n",
       "3                  6.0                         5.0   \n",
       "4                  8.0                         3.0   \n",
       "\n",
       "  Prefered social media platform Time spent on TV  Number of meals per day  \\\n",
       "0                       Linkedin                1                        4   \n",
       "1                        Youtube                0                        3   \n",
       "2                       Linkedin                0                        3   \n",
       "3                      Instagram                0                        3   \n",
       "4                      Instagram                1                        4   \n",
       "\n",
       "  Change in your weight Health issue during lockdown  \\\n",
       "0             Increased                           NO   \n",
       "1             Decreased                           NO   \n",
       "2       Remain Constant                           NO   \n",
       "3             Decreased                           NO   \n",
       "4       Remain Constant                           NO   \n",
       "\n",
       "                   Stress busters Time utilized  \\\n",
       "0                         Cooking           YES   \n",
       "1  Scrolling through social media           YES   \n",
       "2              Listening to music            NO   \n",
       "3             Watching web series            NO   \n",
       "4                    Social Media            NO   \n",
       "\n",
       "  Do you find yourself more connected with your family, close friends , relatives  ?  \\\n",
       "0                                                YES                                   \n",
       "1                                                 NO                                   \n",
       "2                                                YES                                   \n",
       "3                                                 NO                                   \n",
       "4                                                 NO                                   \n",
       "\n",
       "  What you miss the most  \n",
       "0         School/college  \n",
       "1  Roaming around freely  \n",
       "2             Travelling  \n",
       "3    Friends , relatives  \n",
       "4             Travelling  "
      ]
     },
     "execution_count": 11,
     "metadata": {},
     "output_type": "execute_result"
    }
   ],
   "source": [
    "import pandas as pd\n",
    "df = pd.read_csv('data/COVID-19 SSR.csv', encoding='utf8')\n",
    "df.head()"
   ]
  },
  {
   "cell_type": "code",
   "execution_count": 12,
   "id": "abeb3616",
   "metadata": {},
   "outputs": [
    {
     "name": "stdout",
     "output_type": "stream",
     "text": [
      "object\n"
     ]
    }
   ],
   "source": [
    "df.dtypes\n",
    "\n",
    "# наиболее частый тип переменных встречаемый в датасете\n",
    "print(df.dtypes.value_counts().index[0])"
   ]
  },
  {
   "cell_type": "code",
   "execution_count": 13,
   "id": "b32e949b",
   "metadata": {},
   "outputs": [
    {
     "data": {
      "text/plain": [
       "0         Good\n",
       "1    Excellent\n",
       "2    Very Poor\n",
       "3    Very Poor\n",
       "4         Good\n",
       "Name: Rating of Online Class experience, dtype: object"
      ]
     },
     "execution_count": 13,
     "metadata": {},
     "output_type": "execute_result"
    }
   ],
   "source": [
    "# print(df['Rating of Online Class experience'].dtypes)\n",
    "df['Rating of Online Class experience'] = df['Rating of Online Class experience'].str.title()\n",
    "df['Rating of Online Class experience'].astype('category')\n",
    "df['Rating of Online Class experience'][0:5]"
   ]
  },
  {
   "cell_type": "code",
   "execution_count": 14,
   "id": "b8631550",
   "metadata": {},
   "outputs": [
    {
     "name": "stdout",
     "output_type": "stream",
     "text": [
      "785\n"
     ]
    }
   ],
   "source": [
    "# сколько учащихся спят больше или меньше 7-8 часов в день\n",
    "df = pd.read_csv('data/COVID-19 Survey Student Responses.csv', encoding='utf8')\n",
    "\n",
    "# странно написано условие задачи\n",
    "# 7 < норма < 9\n",
    "norma = df[(df['Time spent on sleep'] > 7) & (df['Time spent on sleep'] < 9)].shape[0]\n",
    "print(df.shape[0] - norma)"
   ]
  },
  {
   "cell_type": "code",
   "execution_count": 15,
   "id": "e26bebe1",
   "metadata": {},
   "outputs": [
    {
     "name": "stdout",
     "output_type": "stream",
     "text": [
      "float64\n"
     ]
    }
   ],
   "source": [
    "# заменить нечисловые значения на нули\n",
    "\n",
    "# df['Time spent on TV'].value_counts()\n",
    "# isinstance(1, (int, float))\n",
    "\n",
    "df['Time spent on TV'] = df['Time spent on TV']._convert(numeric=True)\n",
    "df['Time spent on TV'].replace('NaN', 0)\n",
    "\n",
    "print(df['Time spent on TV'].dtypes)"
   ]
  },
  {
   "cell_type": "code",
   "execution_count": 16,
   "id": "3d105088",
   "metadata": {},
   "outputs": [
    {
     "name": "stdout",
     "output_type": "stream",
     "text": [
      "(4.0632496096156885, 0.04382608418680551, 1, array([[356.68020305,  84.31979695],\n",
      "       [599.31979695, 141.68020305]]))\n"
     ]
    }
   ],
   "source": [
    "import pandas as pd\n",
    "df = pd.read_csv('data/COVID-19 Survey Student Responses.csv', encoding='utf8')\n",
    "# df = pd.read_csv('COVID-19 Survey Student Responses.csv')\n",
    "\n",
    "df = df.assign(normal_sleep=['normal' if i >= 7 else 'not normal' for i in df['Time spent on sleep']])\n",
    "df = df.assign(normal_social_media=['normal' if i < 2 else 'not normal' for i in df['Time spent on social media']])\n",
    "CrossTab = pd.crosstab(df['normal_social_media'], df['normal_sleep'])\n",
    "\n",
    "from scipy.stats import chi2_contingency\n",
    "print(chi2_contingency(CrossTab))"
   ]
  },
  {
   "cell_type": "code",
   "execution_count": 17,
   "id": "73145060",
   "metadata": {},
   "outputs": [
    {
     "name": "stdout",
     "output_type": "stream",
     "text": [
      "0    1021\n",
      "1     161\n",
      "Name: Health issue during lockdown, dtype: int64\n"
     ]
    }
   ],
   "source": [
    "df['Health issue during lockdown'].replace(['YES','NO'], [1, 0], inplace = True)\n",
    "print(df['Health issue during lockdown'].value_counts())"
   ]
  },
  {
   "cell_type": "code",
   "execution_count": 18,
   "id": "e62593ab",
   "metadata": {},
   "outputs": [
    {
     "name": "stdout",
     "output_type": "stream",
     "text": [
      "0    1021\n",
      "1     161\n",
      "Name: Health issue during lockdown, dtype: int64\n"
     ]
    }
   ],
   "source": [
    "import pandas as pd\n",
    "# df = pd.read_csv('COVID-19 Survey Student Responses.csv')\n",
    "df = pd.read_csv('data/COVID-19 Survey Student Responses.csv', encoding='utf8')\n",
    "\n",
    "df['Health issue during lockdown'].replace(['YES','NO'], [1, 0], inplace = True)\n",
    "\n",
    "print(df['Health issue during lockdown'].value_counts())"
   ]
  },
  {
   "cell_type": "code",
   "execution_count": 19,
   "id": "40d1cdc4",
   "metadata": {},
   "outputs": [
    {
     "data": {
      "text/plain": [
       "18                                          Reading books\n",
       "24                                          Reading books\n",
       "29               sketching,reading books,meditation,songs\n",
       "31                                          Reading books\n",
       "36                                          Reading books\n",
       "                              ...                        \n",
       "1084                                        Reading books\n",
       "1136                                        Reading books\n",
       "1150         Listening to music and reading books both . \n",
       "1153    Poetry, writing books and novels , listening t...\n",
       "1180                                        Reading books\n",
       "Name: Stress busters, Length: 85, dtype: object"
      ]
     },
     "execution_count": 19,
     "metadata": {},
     "output_type": "execute_result"
    }
   ],
   "source": [
    "df[df['Stress busters'].str.contains('book')]['Stress busters'] # .shape[0]"
   ]
  },
  {
   "cell_type": "code",
   "execution_count": 20,
   "id": "c05de418",
   "metadata": {},
   "outputs": [
    {
     "name": "stdout",
     "output_type": "stream",
     "text": [
      "2.91\n"
     ]
    }
   ],
   "source": [
    "TopSocialMedia = df['Prefered social media platform'].value_counts().index[0]\n",
    "MeanTime = df[df['Prefered social media platform'] == TopSocialMedia]['Time spent on social media'].mean()\n",
    "MeanTime = round(MeanTime, 2)\n",
    "print(MeanTime)"
   ]
  },
  {
   "cell_type": "code",
   "execution_count": 21,
   "id": "15a1957c",
   "metadata": {},
   "outputs": [
    {
     "name": "stdout",
     "output_type": "stream",
     "text": [
      "Talklife 10.0\n"
     ]
    }
   ],
   "source": [
    "# import pandas as pd\n",
    "# df = pd.read_csv('COVID-19 Survey Student Responses.csv')\n",
    "top = df.groupby(['Prefered social media platform'])['Time spent on social media'].mean()\n",
    "top = top.sort_values()\n",
    "print(top.index[-1], f'{top[-1]:.1f}')"
   ]
  }
 ],
 "metadata": {
  "kernelspec": {
   "display_name": "Python 3 (ipykernel)",
   "language": "python",
   "name": "python3"
  },
  "language_info": {
   "codemirror_mode": {
    "name": "ipython",
    "version": 3
   },
   "file_extension": ".py",
   "mimetype": "text/x-python",
   "name": "python",
   "nbconvert_exporter": "python",
   "pygments_lexer": "ipython3",
   "version": "3.9.7"
  }
 },
 "nbformat": 4,
 "nbformat_minor": 5
}
